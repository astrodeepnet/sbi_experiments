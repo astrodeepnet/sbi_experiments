{
  "cells": [
    {
      "cell_type": "markdown",
      "metadata": {
        "id": "view-in-github",
        "colab_type": "text"
      },
      "source": [
        "<a href=\"https://colab.research.google.com/github/astrodeepnet/sbi_experiments/blob/ramp_bijector/notebooks/score_matching/NF_implicit.ipynb\" target=\"_parent\"><img src=\"https://colab.research.google.com/assets/colab-badge.svg\" alt=\"Open In Colab\"/></a>"
      ]
    },
    {
      "cell_type": "markdown",
      "id": "-ksfVXYDmE17",
      "metadata": {
        "id": "-ksfVXYDmE17"
      },
      "source": [
        "# Nomalizing Flow with implicit coupling layers\n"
      ]
    },
    {
      "cell_type": "code",
      "execution_count": 1,
      "id": "3830d842",
      "metadata": {
        "colab": {
          "base_uri": "https://localhost:8080/"
        },
        "id": "3830d842",
        "outputId": "dab497a3-0c79-4d62-c1bd-37beccfdc17e"
      },
      "outputs": [
        {
          "output_type": "stream",
          "name": "stdout",
          "text": [
            "\u001b[?25l\r\u001b[K     |█▏                              | 10 kB 18.9 MB/s eta 0:00:01\r\u001b[K     |██▎                             | 20 kB 22.2 MB/s eta 0:00:01\r\u001b[K     |███▍                            | 30 kB 14.6 MB/s eta 0:00:01\r\u001b[K     |████▋                           | 40 kB 10.6 MB/s eta 0:00:01\r\u001b[K     |█████▊                          | 51 kB 8.9 MB/s eta 0:00:01\r\u001b[K     |██████▉                         | 61 kB 8.5 MB/s eta 0:00:01\r\u001b[K     |████████                        | 71 kB 7.1 MB/s eta 0:00:01\r\u001b[K     |█████████▏                      | 81 kB 7.7 MB/s eta 0:00:01\r\u001b[K     |██████████▎                     | 92 kB 7.8 MB/s eta 0:00:01\r\u001b[K     |███████████▍                    | 102 kB 7.5 MB/s eta 0:00:01\r\u001b[K     |████████████▌                   | 112 kB 7.5 MB/s eta 0:00:01\r\u001b[K     |█████████████▊                  | 122 kB 7.5 MB/s eta 0:00:01\r\u001b[K     |██████████████▉                 | 133 kB 7.5 MB/s eta 0:00:01\r\u001b[K     |████████████████                | 143 kB 7.5 MB/s eta 0:00:01\r\u001b[K     |█████████████████               | 153 kB 7.5 MB/s eta 0:00:01\r\u001b[K     |██████████████████▎             | 163 kB 7.5 MB/s eta 0:00:01\r\u001b[K     |███████████████████▍            | 174 kB 7.5 MB/s eta 0:00:01\r\u001b[K     |████████████████████▌           | 184 kB 7.5 MB/s eta 0:00:01\r\u001b[K     |█████████████████████▊          | 194 kB 7.5 MB/s eta 0:00:01\r\u001b[K     |██████████████████████▉         | 204 kB 7.5 MB/s eta 0:00:01\r\u001b[K     |████████████████████████        | 215 kB 7.5 MB/s eta 0:00:01\r\u001b[K     |█████████████████████████       | 225 kB 7.5 MB/s eta 0:00:01\r\u001b[K     |██████████████████████████▎     | 235 kB 7.5 MB/s eta 0:00:01\r\u001b[K     |███████████████████████████▍    | 245 kB 7.5 MB/s eta 0:00:01\r\u001b[K     |████████████████████████████▌   | 256 kB 7.5 MB/s eta 0:00:01\r\u001b[K     |█████████████████████████████▋  | 266 kB 7.5 MB/s eta 0:00:01\r\u001b[K     |██████████████████████████████▉ | 276 kB 7.5 MB/s eta 0:00:01\r\u001b[K     |████████████████████████████████| 286 kB 7.5 MB/s eta 0:00:01\r\u001b[K     |████████████████████████████████| 287 kB 7.5 MB/s \n",
            "\u001b[K     |████████████████████████████████| 126 kB 36.9 MB/s \n",
            "\u001b[K     |████████████████████████████████| 65 kB 2.3 MB/s \n",
            "\u001b[?25h  Building wheel for SBIExperiments (setup.py) ... \u001b[?25l\u001b[?25hdone\n"
          ]
        }
      ],
      "source": [
        "!pip install --quiet --upgrade dm-haiku optax tensorflow-probability\n",
        "!pip install --quiet git+https://github.com/astrodeepnet/sbi_experiments.git@ramp_bijector"
      ]
    },
    {
      "cell_type": "code",
      "execution_count": 1,
      "id": "Hc32pZP7mvkJ",
      "metadata": {
        "colab": {
          "base_uri": "https://localhost:8080/"
        },
        "id": "Hc32pZP7mvkJ",
        "outputId": "392beced-3124-4119-fca3-66f9466f0a1b"
      },
      "outputs": [
        {
          "output_type": "stream",
          "name": "stdout",
          "text": [
            "Populating the interactive namespace from numpy and matplotlib\n"
          ]
        }
      ],
      "source": [
        "%pylab inline\n",
        "%load_ext autoreload\n",
        "%autoreload 2\n",
        "import jax\n",
        "import jax.numpy as jnp\n",
        "import numpy as onp\n",
        "import haiku as hk\n",
        "import optax\n",
        "from functools import partial\n",
        "from tqdm import tqdm\n",
        "from tensorflow_probability.substrates import jax as tfp\n",
        "tfd = tfp.distributions\n",
        "tfb = tfp.bijectors\n",
        "tfpk = tfp.math.psd_kernels"
      ]
    },
    {
      "cell_type": "code",
      "execution_count": 2,
      "id": "Vjg7DR8Mm3ma",
      "metadata": {
        "id": "Vjg7DR8Mm3ma"
      },
      "outputs": [],
      "source": [
        "d=2\n",
        "batch_size = 1024"
      ]
    },
    {
      "cell_type": "code",
      "execution_count": 3,
      "id": "SCV_fApFm5B6",
      "metadata": {
        "id": "SCV_fApFm5B6"
      },
      "outputs": [],
      "source": [
        "from sbiexpt.distributions import get_two_moons\n",
        "from sbiexpt.bijectors import ImplicitRampBijector"
      ]
    },
    {
      "cell_type": "code",
      "execution_count": 4,
      "id": "QlkFc_kMFwdp",
      "metadata": {
        "id": "QlkFc_kMFwdp"
      },
      "outputs": [],
      "source": [
        "@jax.jit\n",
        "def get_batch(seed):\n",
        "  two_moons = get_two_moons(sigma= 0.05)\n",
        "  batch = two_moons.sample(batch_size, seed=seed) / 5 + 0.45\n",
        "  return batch"
      ]
    },
    {
      "cell_type": "code",
      "source": [
        "batch = get_batch(jax.random.PRNGKey(0))\n",
        "hist2d(batch[:,0], batch[:,1],100, range=[[0,1],[0,1]]); gca().set_aspect('equal');"
      ],
      "metadata": {
        "colab": {
          "base_uri": "https://localhost:8080/",
          "height": 269
        },
        "id": "chc6hgEwxoJO",
        "outputId": "3f5fec6f-41ff-4ecc-e471-e1ab9f4216dd"
      },
      "id": "chc6hgEwxoJO",
      "execution_count": 5,
      "outputs": [
        {
          "output_type": "display_data",
          "data": {
            "image/png": "[encoded data removed]",
            "text/plain": [
              "<Figure size 432x288 with 1 Axes>"
            ]
          },
          "metadata": {
            "needs_background": "light"
          }
        }
      ]
    },
    {
      "cell_type": "code",
      "execution_count": 10,
      "id": "VJDFS8Gd7zTQ",
      "metadata": {
        "id": "VJDFS8Gd7zTQ"
      },
      "outputs": [],
      "source": [
        "class CustomCoupling(hk.Module):\n",
        "  \"\"\"This is the coupling layer used in the Flow.\"\"\"\n",
        "  def __call__(self, x, output_units, **condition_kwargs):\n",
        "\n",
        "    # NN to get a b and c\n",
        "    net = hk.Linear(128)(x)\n",
        "    net = jax.nn.leaky_relu(net)\n",
        "    net = hk.Linear(128)(net)\n",
        "    net = jax.nn.leaky_relu(net)\n",
        "    a   = jax.nn.softplus(hk.Linear(output_units)(net))\n",
        "    b   = jax.nn.sigmoid(hk.Linear(output_units)(net))\n",
        "    c   = jax.nn.sigmoid(hk.Linear(output_units)(net))\n",
        "    return ImplicitRampBijector(lambda x: x**5, a,b,c)\n",
        "\n",
        "class Flow(hk.Module):\n",
        "    \"\"\"A normalizing flow using the coupling layers defined\n",
        "    above.\"\"\"\n",
        "    def __call__(self):\n",
        "      chain = tfb.Chain([\n",
        "            tfb.RealNVP(d//2, bijector_fn=CustomCoupling(name = 'b1')),\n",
        "            tfb.Permute([1,0]),\n",
        "            tfb.RealNVP(d//2, bijector_fn=CustomCoupling(name = 'b2')),\n",
        "            tfb.Permute([1,0]),\n",
        "        ])\n",
        "      \n",
        "      nvp = tfd.TransformedDistribution(\n",
        "            tfd.MultivariateNormalDiag(0.5*jnp.ones(d),0.1*jnp.ones(d)),\n",
        "            bijector=chain)\n",
        "        \n",
        "      return nvp"
      ]
    },
    {
      "cell_type": "code",
      "execution_count": 11,
      "id": "ylT0Cf7r8G0e",
      "metadata": {
        "id": "ylT0Cf7r8G0e"
      },
      "outputs": [],
      "source": [
        "model_NF = hk.without_apply_rng(hk.transform(lambda x : Flow()().log_prob(x)))"
      ]
    },
    {
      "cell_type": "code",
      "execution_count": 12,
      "id": "-9ZOpqD28Gx1",
      "metadata": {
        "id": "-9ZOpqD28Gx1"
      },
      "outputs": [],
      "source": [
        "rng_seq = hk.PRNGSequence(12)\n",
        "params = model_NF.init(next(rng_seq), jnp.zeros([1,d]))"
      ]
    },
    {
      "cell_type": "code",
      "execution_count": 13,
      "id": "bjXg45N58Gu_",
      "metadata": {
        "id": "bjXg45N58Gu_"
      },
      "outputs": [],
      "source": [
        "# TO DO\n",
        "@jax.jit\n",
        "def loss_fn(params, batch):\n",
        "  log_prob = model_NF.apply(params, batch)\n",
        "  return -jnp.mean(log_prob)"
      ]
    },
    {
      "cell_type": "code",
      "execution_count": 14,
      "id": "vKyWyEct8GsD",
      "metadata": {
        "id": "vKyWyEct8GsD"
      },
      "outputs": [],
      "source": [
        "@jax.jit\n",
        "def update(params, opt_state, batch):\n",
        "    \"\"\"Single SGD update step.\"\"\"\n",
        "    loss, grads = jax.value_and_grad(loss_fn)(params, batch)\n",
        "    updates, new_opt_state = optimizer.update(grads, opt_state)\n",
        "    new_params = optax.apply_updates(params, updates)\n",
        "  \n",
        "    return loss, new_params, new_opt_state"
      ]
    },
    {
      "cell_type": "code",
      "execution_count": 15,
      "id": "y8UW790jFjxK",
      "metadata": {
        "id": "y8UW790jFjxK"
      },
      "outputs": [],
      "source": [
        "learning_rate=0.001\n",
        "optimizer = optax.adam(learning_rate)\n",
        "opt_state = optimizer.init(params)"
      ]
    },
    {
      "cell_type": "code",
      "execution_count": 16,
      "id": "cgpoNZNyFjrY",
      "metadata": {
        "id": "cgpoNZNyFjrY"
      },
      "outputs": [],
      "source": [
        "losses = []\n",
        "master_seed = hk.PRNGSequence(0)"
      ]
    },
    {
      "cell_type": "code",
      "execution_count": 17,
      "id": "5sHvoJrgFjn6",
      "metadata": {
        "colab": {
          "base_uri": "https://localhost:8080/"
        },
        "id": "5sHvoJrgFjn6",
        "outputId": "6376d9ef-e76e-45e5-a3b7-e5b4e0729c5d"
      },
      "outputs": [
        {
          "output_type": "stream",
          "name": "stderr",
          "text": [
            "100%|██████████| 1000/1000 [00:48<00:00, 20.71it/s]\n"
          ]
        }
      ],
      "source": [
        "for step in tqdm(range(1000)):\n",
        "    batch = get_batch(next(master_seed))\n",
        "    l, params, opt_state = update(params, opt_state, batch)\n",
        "    losses.append(l)"
      ]
    },
    {
      "cell_type": "code",
      "execution_count": 18,
      "id": "7gzKKxIJ8GpA",
      "metadata": {
        "id": "7gzKKxIJ8GpA",
        "colab": {
          "base_uri": "https://localhost:8080/",
          "height": 282
        },
        "outputId": "05efb90e-4ae7-48d8-80b4-6e076364e596"
      },
      "outputs": [
        {
          "output_type": "execute_result",
          "data": {
            "text/plain": [
              "[<matplotlib.lines.Line2D at 0x7f0f2537f890>]"
            ]
          },
          "metadata": {},
          "execution_count": 18
        },
        {
          "output_type": "display_data",
          "data": {
            "image/png": "[encoded data removed]",
            "text/plain": [
              "<Figure size 432x288 with 1 Axes>"
            ]
          },
          "metadata": {
            "needs_background": "light"
          }
        }
      ],
      "source": [
        "plot(losses)"
      ]
    },
    {
      "cell_type": "code",
      "source": [
        "x = jnp.stack(jnp.meshgrid(jnp.linspace(0.1,0.9),\n",
        "                           jnp.linspace(0.1,0.9)),-1)\n",
        "\n",
        "im = model_NF.apply(params, x.reshape(-1,2)).reshape([50,50])\n",
        "contourf(x[...,0],x[...,1],(im),100); colorbar()"
      ],
      "metadata": {
        "colab": {
          "base_uri": "https://localhost:8080/",
          "height": 286
        },
        "id": "n0LPKdF-zglF",
        "outputId": "9f68e3a1-a8ca-44a0-8cff-353989b88be5"
      },
      "id": "n0LPKdF-zglF",
      "execution_count": 20,
      "outputs": [
        {
          "output_type": "execute_result",
          "data": {
            "text/plain": [
              "<matplotlib.colorbar.Colorbar at 0x7f0f0a6a1a90>"
            ]
          },
          "metadata": {},
          "execution_count": 20
        },
        {
          "output_type": "display_data",
          "data": {
            "image/png": "[encoded data removed]",
            "text/plain": [
              "<Figure size 432x288 with 2 Axes>"
            ]
          },
          "metadata": {
            "needs_background": "light"
          }
        }
      ]
    },
    {
      "cell_type": "code",
      "source": [
        "hist2d(batch[:,0], batch[:,1],100, range=[[0,1],[0,1]]);gca().set_aspect('equal');"
      ],
      "metadata": {
        "colab": {
          "base_uri": "https://localhost:8080/",
          "height": 269
        },
        "id": "YDTVYHhmz4Y-",
        "outputId": "5c1dd7f7-82a9-41c7-993b-cf33365771f0"
      },
      "id": "YDTVYHhmz4Y-",
      "execution_count": 55,
      "outputs": [
        {
          "output_type": "display_data",
          "data": {
            "image/png": "[encoded data removed]",
            "text/plain": [
              "<Figure size 432x288 with 1 Axes>"
            ]
          },
          "metadata": {
            "needs_background": "light"
          }
        }
      ]
    },
    {
      "cell_type": "code",
      "source": [
        ""
      ],
      "metadata": {
        "id": "o019FNr21icQ"
      },
      "id": "o019FNr21icQ",
      "execution_count": null,
      "outputs": []
    }
  ],
  "metadata": {
    "accelerator": "GPU",
    "colab": {
      "name": "NF_implicit.ipynb",
      "provenance": [],
      "include_colab_link": true
    },
    "kernelspec": {
      "display_name": "Python 3",
      "name": "python3"
    },
    "language_info": {
      "name": "python"
    }
  },
  "nbformat": 4,
  "nbformat_minor": 5
}