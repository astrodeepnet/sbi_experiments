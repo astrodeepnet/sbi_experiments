{
  "cells": [
    {
      "cell_type": "markdown",
      "metadata": {
        "id": "view-in-github",
        "colab_type": "text"
      },
      "source": [
        "<a href=\"https://colab.research.google.com/github/astrodeepnet/sbi_experiments/blob/ramp_bijector/notebooks/score_matching/NF_implicit.ipynb\" target=\"_parent\"><img src=\"https://colab.research.google.com/assets/colab-badge.svg\" alt=\"Open In Colab\"/></a>"
      ]
    },
    {
      "cell_type": "markdown",
      "id": "-ksfVXYDmE17",
      "metadata": {
        "id": "-ksfVXYDmE17"
      },
      "source": [
        "# Nomalizing Flow with implicit coupling layers\n"
      ]
    },
    {
      "cell_type": "code",
      "execution_count": 1,
      "id": "3830d842",
      "metadata": {
        "colab": {
          "base_uri": "https://localhost:8080/"
        },
        "id": "3830d842",
        "outputId": "99f4731b-f6cc-4d32-9e10-bbcbc9829eda"
      },
      "outputs": [
        {
          "output_type": "stream",
          "name": "stdout",
          "text": [
            "\u001b[?25l\r\u001b[K     |█▏                              | 10 kB 18.7 MB/s eta 0:00:01\r\u001b[K     |██▎                             | 20 kB 20.4 MB/s eta 0:00:01\r\u001b[K     |███▍                            | 30 kB 12.5 MB/s eta 0:00:01\r\u001b[K     |████▋                           | 40 kB 9.5 MB/s eta 0:00:01\r\u001b[K     |█████▊                          | 51 kB 7.2 MB/s eta 0:00:01\r\u001b[K     |██████▉                         | 61 kB 7.5 MB/s eta 0:00:01\r\u001b[K     |████████                        | 71 kB 6.3 MB/s eta 0:00:01\r\u001b[K     |█████████▏                      | 81 kB 7.1 MB/s eta 0:00:01\r\u001b[K     |██████████▎                     | 92 kB 6.5 MB/s eta 0:00:01\r\u001b[K     |███████████▍                    | 102 kB 6.8 MB/s eta 0:00:01\r\u001b[K     |████████████▌                   | 112 kB 6.8 MB/s eta 0:00:01\r\u001b[K     |█████████████▊                  | 122 kB 6.8 MB/s eta 0:00:01\r\u001b[K     |██████████████▉                 | 133 kB 6.8 MB/s eta 0:00:01\r\u001b[K     |████████████████                | 143 kB 6.8 MB/s eta 0:00:01\r\u001b[K     |█████████████████               | 153 kB 6.8 MB/s eta 0:00:01\r\u001b[K     |██████████████████▎             | 163 kB 6.8 MB/s eta 0:00:01\r\u001b[K     |███████████████████▍            | 174 kB 6.8 MB/s eta 0:00:01\r\u001b[K     |████████████████████▌           | 184 kB 6.8 MB/s eta 0:00:01\r\u001b[K     |█████████████████████▊          | 194 kB 6.8 MB/s eta 0:00:01\r\u001b[K     |██████████████████████▉         | 204 kB 6.8 MB/s eta 0:00:01\r\u001b[K     |████████████████████████        | 215 kB 6.8 MB/s eta 0:00:01\r\u001b[K     |█████████████████████████       | 225 kB 6.8 MB/s eta 0:00:01\r\u001b[K     |██████████████████████████▎     | 235 kB 6.8 MB/s eta 0:00:01\r\u001b[K     |███████████████████████████▍    | 245 kB 6.8 MB/s eta 0:00:01\r\u001b[K     |████████████████████████████▌   | 256 kB 6.8 MB/s eta 0:00:01\r\u001b[K     |█████████████████████████████▋  | 266 kB 6.8 MB/s eta 0:00:01\r\u001b[K     |██████████████████████████████▉ | 276 kB 6.8 MB/s eta 0:00:01\r\u001b[K     |████████████████████████████████| 286 kB 6.8 MB/s eta 0:00:01\r\u001b[K     |████████████████████████████████| 287 kB 6.8 MB/s \n",
            "\u001b[K     |████████████████████████████████| 126 kB 66.6 MB/s \n",
            "\u001b[K     |████████████████████████████████| 65 kB 4.8 MB/s \n",
            "\u001b[?25h  Building wheel for SBIExperiments (setup.py) ... \u001b[?25l\u001b[?25hdone\n"
          ]
        }
      ],
      "source": [
        "!pip install --quiet --upgrade dm-haiku optax tensorflow-probability\n",
        "!pip install --quiet git+https://github.com/astrodeepnet/sbi_experiments.git@ramp_bijector"
      ]
    },
    {
      "cell_type": "code",
      "execution_count": 2,
      "id": "Hc32pZP7mvkJ",
      "metadata": {
        "colab": {
          "base_uri": "https://localhost:8080/"
        },
        "id": "Hc32pZP7mvkJ",
        "outputId": "063c69d1-a7e3-4f46-af4a-e8072e8228c0"
      },
      "outputs": [
        {
          "output_type": "stream",
          "name": "stdout",
          "text": [
            "Populating the interactive namespace from numpy and matplotlib\n"
          ]
        }
      ],
      "source": [
        "%pylab inline\n",
        "%load_ext autoreload\n",
        "%autoreload 2\n",
        "import jax\n",
        "import jax.numpy as jnp\n",
        "import numpy as onp\n",
        "import haiku as hk\n",
        "import optax\n",
        "from functools import partial\n",
        "from tqdm import tqdm\n",
        "from tensorflow_probability.substrates import jax as tfp\n",
        "tfd = tfp.distributions\n",
        "tfb = tfp.bijectors\n",
        "tfpk = tfp.math.psd_kernels"
      ]
    },
    {
      "cell_type": "code",
      "execution_count": 3,
      "id": "Vjg7DR8Mm3ma",
      "metadata": {
        "id": "Vjg7DR8Mm3ma"
      },
      "outputs": [],
      "source": [
        "d=2\n",
        "batch_size = 1024"
      ]
    },
    {
      "cell_type": "code",
      "execution_count": 4,
      "id": "SCV_fApFm5B6",
      "metadata": {
        "id": "SCV_fApFm5B6"
      },
      "outputs": [],
      "source": [
        "from sbiexpt.distributions import get_two_moons\n",
        "from sbiexpt.bijectors import ImplicitRampBijector"
      ]
    },
    {
      "cell_type": "code",
      "execution_count": 5,
      "id": "QlkFc_kMFwdp",
      "metadata": {
        "id": "QlkFc_kMFwdp"
      },
      "outputs": [],
      "source": [
        "@jax.jit\n",
        "def get_batch(seed):\n",
        "  two_moons = get_two_moons(sigma= 0.05)\n",
        "  batch = two_moons.sample(batch_size, seed=seed) / 5 + 0.45\n",
        "  return batch"
      ]
    },
    {
      "cell_type": "code",
      "execution_count": 6,
      "id": "chc6hgEwxoJO",
      "metadata": {
        "colab": {
          "base_uri": "https://localhost:8080/",
          "height": 269
        },
        "id": "chc6hgEwxoJO",
        "outputId": "8adcc995-a4e6-4ee1-d5af-c5290205f771"
      },
      "outputs": [
        {
          "output_type": "display_data",
          "data": {
            "image/png": "[encoded data removed]",
            "text/plain": [
              "<Figure size 432x288 with 1 Axes>"
            ]
          },
          "metadata": {
            "needs_background": "light"
          }
        }
      ],
      "source": [
        "batch = get_batch(jax.random.PRNGKey(0))\n",
        "hist2d(batch[:,0], batch[:,1],100, range=[[0,1],[0,1]]); gca().set_aspect('equal');"
      ]
    },
    {
      "cell_type": "code",
      "execution_count": 7,
      "id": "VJDFS8Gd7zTQ",
      "metadata": {
        "id": "VJDFS8Gd7zTQ"
      },
      "outputs": [],
      "source": [
        "class CustomCoupling(hk.Module):\n",
        "  \"\"\"This is the coupling layer used in the Flow.\"\"\"\n",
        "  def __call__(self, x, output_units, **condition_kwargs):\n",
        "\n",
        "    # NN to get a b and c\n",
        "    net = hk.Linear(128)(x)\n",
        "    net = jax.nn.leaky_relu(net)\n",
        "    net = hk.Linear(128)(net)\n",
        "    net = jax.nn.leaky_relu(net)\n",
        "    \n",
        "    log_a_bound=4\n",
        "    min_density_lower_bound=1e-4\n",
        "    \n",
        "    log_a   = jax.nn.tanh(hk.Linear(output_units)(net)) * log_a_bound\n",
        "    b   = jax.nn.sigmoid(hk.Linear(output_units)(net))\n",
        "    c   = min_density_lower_bound + jax.nn.sigmoid(hk.Linear(output_units)(net)) * (1 - min_density_lower_bound)\n",
        "    return ImplicitRampBijector(lambda x: x**5, jnp.exp(log_a),b,c)\n",
        "\n",
        "class Flow(hk.Module):\n",
        "    \"\"\"A normalizing flow using the coupling layers defined\n",
        "    above.\"\"\"\n",
        "    def __call__(self):\n",
        "      chain = tfb.Chain([\n",
        "            tfb.RealNVP(d//2, bijector_fn=CustomCoupling(name = 'b1')),\n",
        "            tfb.Permute([1,0]),\n",
        "            tfb.RealNVP(d//2, bijector_fn=CustomCoupling(name = 'b2')),\n",
        "            tfb.Permute([1,0]),\n",
        "            tfb.RealNVP(d//2, bijector_fn=CustomCoupling(name = 'b3')),\n",
        "            tfb.Permute([1,0]),\n",
        "            tfb.RealNVP(d//2, bijector_fn=CustomCoupling(name = 'b4')),\n",
        "            tfb.Permute([1,0]),\n",
        "        ])\n",
        "      \n",
        "      nvp = tfd.TransformedDistribution(\n",
        "            tfd.Independent(tfd.TruncatedNormal(0.5*jnp.ones(d), \n",
        "                                                0.3*jnp.ones(d), \n",
        "                                                0.01,0.99),\n",
        "                            reinterpreted_batch_ndims=1),\n",
        "            bijector=chain)\n",
        "        \n",
        "      return nvp"
      ]
    },
    {
      "cell_type": "code",
      "execution_count": 8,
      "id": "ylT0Cf7r8G0e",
      "metadata": {
        "id": "ylT0Cf7r8G0e"
      },
      "outputs": [],
      "source": [
        "model_NF = hk.without_apply_rng(hk.transform(lambda x : Flow()().log_prob(x)))\n",
        "model_inv = hk.without_apply_rng(hk.transform(lambda x : Flow()().bijector.inverse(x)))\n",
        "model_sample = hk.without_apply_rng(hk.transform(lambda : Flow()().sample(1024, seed=next(rng_seq))))"
      ]
    },
    {
      "cell_type": "code",
      "execution_count": 9,
      "id": "-9ZOpqD28Gx1",
      "metadata": {
        "id": "-9ZOpqD28Gx1"
      },
      "outputs": [],
      "source": [
        "rng_seq = hk.PRNGSequence(12)\n",
        "params = model_NF.init(next(rng_seq), jnp.zeros([1,d]))"
      ]
    },
    {
      "cell_type": "code",
      "execution_count": 10,
      "id": "bjXg45N58Gu_",
      "metadata": {
        "id": "bjXg45N58Gu_"
      },
      "outputs": [],
      "source": [
        "# TO DO\n",
        "@jax.jit\n",
        "def loss_fn(params, batch):\n",
        "  log_prob = model_NF.apply(params, batch)\n",
        "  return -jnp.mean(log_prob)"
      ]
    },
    {
      "cell_type": "code",
      "execution_count": 11,
      "id": "vKyWyEct8GsD",
      "metadata": {
        "id": "vKyWyEct8GsD"
      },
      "outputs": [],
      "source": [
        "@jax.jit\n",
        "def update(params, opt_state, batch):\n",
        "    \"\"\"Single SGD update step.\"\"\"\n",
        "    loss, grads = jax.value_and_grad(loss_fn)(params, batch)\n",
        "    updates, new_opt_state = optimizer.update(grads, opt_state)\n",
        "    new_params = optax.apply_updates(params, updates)\n",
        "  \n",
        "    return loss, new_params, new_opt_state"
      ]
    },
    {
      "cell_type": "code",
      "execution_count": 42,
      "id": "y8UW790jFjxK",
      "metadata": {
        "id": "y8UW790jFjxK"
      },
      "outputs": [],
      "source": [
        "learning_rate=0.0002\n",
        "optimizer = optax.adam(learning_rate)\n",
        "opt_state = optimizer.init(params)"
      ]
    },
    {
      "cell_type": "code",
      "execution_count": 13,
      "id": "cgpoNZNyFjrY",
      "metadata": {
        "id": "cgpoNZNyFjrY"
      },
      "outputs": [],
      "source": [
        "losses = []\n",
        "master_seed = hk.PRNGSequence(0)"
      ]
    },
    {
      "cell_type": "code",
      "execution_count": 43,
      "id": "5sHvoJrgFjn6",
      "metadata": {
        "colab": {
          "base_uri": "https://localhost:8080/"
        },
        "id": "5sHvoJrgFjn6",
        "outputId": "ca68f8ef-5432-46de-8d85-513587c5f735"
      },
      "outputs": [
        {
          "output_type": "stream",
          "name": "stderr",
          "text": [
            "100%|██████████| 5000/5000 [01:24<00:00, 59.36it/s]\n"
          ]
        }
      ],
      "source": [
        "for step in tqdm(range(5000)):\n",
        "    batch = get_batch(next(master_seed))\n",
        "    l, params, opt_state = update(params, opt_state, batch)\n",
        "    losses.append(l)"
      ]
    },
    {
      "cell_type": "code",
      "execution_count": 44,
      "id": "7gzKKxIJ8GpA",
      "metadata": {
        "colab": {
          "base_uri": "https://localhost:8080/",
          "height": 284
        },
        "id": "7gzKKxIJ8GpA",
        "outputId": "6cdc82c1-e5fe-4b56-eb43-83f3c07080e2"
      },
      "outputs": [
        {
          "output_type": "execute_result",
          "data": {
            "text/plain": [
              "[<matplotlib.lines.Line2D at 0x7fcbdcf71610>]"
            ]
          },
          "metadata": {},
          "execution_count": 44
        },
        {
          "output_type": "display_data",
          "data": {
            "image/png": "[encoded data removed]",
            "text/plain": [
              "<Figure size 432x288 with 1 Axes>"
            ]
          },
          "metadata": {
            "needs_background": "light"
          }
        }
      ],
      "source": [
        "plot(losses[25:])"
      ]
    },
    {
      "cell_type": "code",
      "execution_count": 46,
      "id": "n0LPKdF-zglF",
      "metadata": {
        "colab": {
          "base_uri": "https://localhost:8080/",
          "height": 286
        },
        "id": "n0LPKdF-zglF",
        "outputId": "4c8735cb-47c9-4726-80d0-129a6657f4bc"
      },
      "outputs": [
        {
          "output_type": "execute_result",
          "data": {
            "text/plain": [
              "<matplotlib.colorbar.Colorbar at 0x7fcbdb989210>"
            ]
          },
          "metadata": {},
          "execution_count": 46
        },
        {
          "output_type": "display_data",
          "data": {
            "image/png": "[encoded data removed]",
            "text/plain": [
              "<Figure size 432x288 with 2 Axes>"
            ]
          },
          "metadata": {
            "needs_background": "light"
          }
        }
      ],
      "source": [
        "x = jnp.stack(jnp.meshgrid(jnp.linspace(0.1,0.9,128),\n",
        "                           jnp.linspace(0.1,0.9,128)),-1)\n",
        "\n",
        "im = model_NF.apply(params, x.reshape(-1,2)).reshape([128,128])\n",
        "contourf(x[...,0],x[...,1],jnp.exp(im),100); colorbar()"
      ]
    },
    {
      "cell_type": "code",
      "execution_count": 47,
      "id": "YDTVYHhmz4Y-",
      "metadata": {
        "colab": {
          "base_uri": "https://localhost:8080/",
          "height": 269
        },
        "id": "YDTVYHhmz4Y-",
        "outputId": "944a1f25-2849-4f00-ae03-7f25f5e1d5bd"
      },
      "outputs": [
        {
          "output_type": "display_data",
          "data": {
            "image/png": "[encoded data removed]",
            "text/plain": [
              "<Figure size 432x288 with 1 Axes>"
            ]
          },
          "metadata": {
            "needs_background": "light"
          }
        }
      ],
      "source": [
        "hist2d(batch[:,0], batch[:,1],100, range=[[0,1],[0,1]]);gca().set_aspect('equal');"
      ]
    },
    {
      "cell_type": "code",
      "execution_count": 48,
      "id": "427774db",
      "metadata": {
        "id": "427774db"
      },
      "outputs": [],
      "source": [
        "x = model_inv.apply(params, batch)"
      ]
    },
    {
      "cell_type": "code",
      "execution_count": 49,
      "id": "acdc9ad7",
      "metadata": {
        "id": "acdc9ad7",
        "outputId": "54bf2ea5-8e6e-44af-8d8e-7a997eab0495",
        "colab": {
          "base_uri": "https://localhost:8080/",
          "height": 269
        }
      },
      "outputs": [
        {
          "output_type": "display_data",
          "data": {
            "image/png": "[encoded data removed]",
            "text/plain": [
              "<Figure size 432x288 with 1 Axes>"
            ]
          },
          "metadata": {
            "needs_background": "light"
          }
        }
      ],
      "source": [
        "hist2d(x[:,0], x[:,1],100, range=[[0,1],[0,1]]);gca().set_aspect('equal');"
      ]
    },
    {
      "cell_type": "code",
      "execution_count": 50,
      "id": "db6d76ae",
      "metadata": {
        "id": "db6d76ae"
      },
      "outputs": [],
      "source": [
        "x = model_sample.apply(params)"
      ]
    },
    {
      "cell_type": "code",
      "execution_count": 51,
      "id": "3a65c01d",
      "metadata": {
        "id": "3a65c01d",
        "outputId": "83702ef3-f4c6-4cd5-b885-0d367a8388e2",
        "colab": {
          "base_uri": "https://localhost:8080/",
          "height": 269
        }
      },
      "outputs": [
        {
          "output_type": "display_data",
          "data": {
            "image/png": "[encoded data removed]",
            "text/plain": [
              "<Figure size 432x288 with 1 Axes>"
            ]
          },
          "metadata": {
            "needs_background": "light"
          }
        }
      ],
      "source": [
        "hist2d(x[:,0], x[:,1],100, range=[[0,1],[0,1]]);gca().set_aspect('equal');"
      ]
    },
    {
      "cell_type": "code",
      "execution_count": 22,
      "id": "o019FNr21icQ",
      "metadata": {
        "id": "o019FNr21icQ"
      },
      "outputs": [],
      "source": [
        "coupl = hk.without_apply_rng(hk.transform(lambda x: CustomCoupling(name = 'b2')(x,1)))"
      ]
    },
    {
      "cell_type": "code",
      "execution_count": 23,
      "id": "bf4affb1",
      "metadata": {
        "id": "bf4affb1"
      },
      "outputs": [],
      "source": [
        "predicate = lambda module_name, name, value: 'flow/b2' in module_name\n",
        "params_b1 = hk.data_structures.filter(predicate, params) "
      ]
    },
    {
      "cell_type": "code",
      "execution_count": 24,
      "id": "fabe87c6",
      "metadata": {
        "id": "fabe87c6"
      },
      "outputs": [],
      "source": [
        "params_b1=hk.data_structures.to_mutable_dict(params_b1)\n",
        "params_b1={k.split('flow/')[1]:params_b1[k] for k in params_b1.keys()}"
      ]
    },
    {
      "cell_type": "code",
      "execution_count": 25,
      "id": "d1d84137",
      "metadata": {
        "id": "d1d84137"
      },
      "outputs": [],
      "source": [
        "t = jnp.linspace(0,1)\n",
        "bij = coupl.apply(params_b1, t.reshape([50,1]))"
      ]
    },
    {
      "cell_type": "code",
      "execution_count": 26,
      "id": "c080fb6b",
      "metadata": {
        "id": "c080fb6b",
        "outputId": "fb8fcda4-2874-49e0-e191-22d78e2568d4",
        "colab": {
          "base_uri": "https://localhost:8080/",
          "height": 282
        }
      },
      "outputs": [
        {
          "output_type": "execute_result",
          "data": {
            "text/plain": [
              "[<matplotlib.lines.Line2D at 0x7fcbdee2bc10>]"
            ]
          },
          "metadata": {},
          "execution_count": 26
        },
        {
          "output_type": "display_data",
          "data": {
            "image/png": "[encoded data removed]",
            "text/plain": [
              "<Figure size 432x288 with 1 Axes>"
            ]
          },
          "metadata": {
            "needs_background": "light"
          }
        }
      ],
      "source": [
        "plot(t,bij(t)[30])"
      ]
    },
    {
      "cell_type": "code",
      "execution_count": 27,
      "id": "3491c9d7",
      "metadata": {
        "id": "3491c9d7"
      },
      "outputs": [],
      "source": [
        "inv = bij.inverse(1*bij(t))"
      ]
    },
    {
      "cell_type": "code",
      "execution_count": 28,
      "id": "fff25ef0",
      "metadata": {
        "id": "fff25ef0",
        "outputId": "1145beb1-06c9-4957-943b-7adcff8bafb3",
        "colab": {
          "base_uri": "https://localhost:8080/",
          "height": 1000
        }
      },
      "outputs": [
        {
          "output_type": "execute_result",
          "data": {
            "text/plain": [
              "[<matplotlib.lines.Line2D at 0x7fcbdf91a5d0>,\n",
              " <matplotlib.lines.Line2D at 0x7fcbdecd3810>,\n",
              " <matplotlib.lines.Line2D at 0x7fcbded5ca10>,\n",
              " <matplotlib.lines.Line2D at 0x7fcbded7d6d0>,\n",
              " <matplotlib.lines.Line2D at 0x7fcbded7ddd0>,\n",
              " <matplotlib.lines.Line2D at 0x7fcbded7d590>,\n",
              " <matplotlib.lines.Line2D at 0x7fcbded1bf90>,\n",
              " <matplotlib.lines.Line2D at 0x7fcbded1bd50>,\n",
              " <matplotlib.lines.Line2D at 0x7fcbded1b810>,\n",
              " <matplotlib.lines.Line2D at 0x7fcbded1b5d0>,\n",
              " <matplotlib.lines.Line2D at 0x7fcbded1be90>,\n",
              " <matplotlib.lines.Line2D at 0x7fcbded22090>,\n",
              " <matplotlib.lines.Line2D at 0x7fcbded22ad0>,\n",
              " <matplotlib.lines.Line2D at 0x7fcbded226d0>,\n",
              " <matplotlib.lines.Line2D at 0x7fcbded22e50>,\n",
              " <matplotlib.lines.Line2D at 0x7fcbded61890>,\n",
              " <matplotlib.lines.Line2D at 0x7fcbded613d0>,\n",
              " <matplotlib.lines.Line2D at 0x7fcbdef7cfd0>,\n",
              " <matplotlib.lines.Line2D at 0x7fcbdef7c9d0>,\n",
              " <matplotlib.lines.Line2D at 0x7fcbded619d0>,\n",
              " <matplotlib.lines.Line2D at 0x7fcbdee33410>,\n",
              " <matplotlib.lines.Line2D at 0x7fcbdef4b950>,\n",
              " <matplotlib.lines.Line2D at 0x7fcbdec05f90>,\n",
              " <matplotlib.lines.Line2D at 0x7fcbded74e50>,\n",
              " <matplotlib.lines.Line2D at 0x7fcbded74bd0>,\n",
              " <matplotlib.lines.Line2D at 0x7fcbded740d0>,\n",
              " <matplotlib.lines.Line2D at 0x7fcbded94910>,\n",
              " <matplotlib.lines.Line2D at 0x7fcbded94b90>,\n",
              " <matplotlib.lines.Line2D at 0x7fcbded94190>,\n",
              " <matplotlib.lines.Line2D at 0x7fcbded94510>,\n",
              " <matplotlib.lines.Line2D at 0x7fcbdec155d0>,\n",
              " <matplotlib.lines.Line2D at 0x7fcbdec15450>,\n",
              " <matplotlib.lines.Line2D at 0x7fcbdec15d10>,\n",
              " <matplotlib.lines.Line2D at 0x7fcbdec15690>,\n",
              " <matplotlib.lines.Line2D at 0x7fcbdec15a50>,\n",
              " <matplotlib.lines.Line2D at 0x7fcbdec15610>,\n",
              " <matplotlib.lines.Line2D at 0x7fcbdec15050>,\n",
              " <matplotlib.lines.Line2D at 0x7fcbdec15990>,\n",
              " <matplotlib.lines.Line2D at 0x7fcbdec15410>,\n",
              " <matplotlib.lines.Line2D at 0x7fcbdec10d90>,\n",
              " <matplotlib.lines.Line2D at 0x7fcbdec10050>,\n",
              " <matplotlib.lines.Line2D at 0x7fcbdec10250>,\n",
              " <matplotlib.lines.Line2D at 0x7fcbdec107d0>,\n",
              " <matplotlib.lines.Line2D at 0x7fcbdec10bd0>,\n",
              " <matplotlib.lines.Line2D at 0x7fcbdec0d9d0>,\n",
              " <matplotlib.lines.Line2D at 0x7fcbdec0df10>,\n",
              " <matplotlib.lines.Line2D at 0x7fcbdec0d8d0>,\n",
              " <matplotlib.lines.Line2D at 0x7fcbdec0d750>,\n",
              " <matplotlib.lines.Line2D at 0x7fcbdf248410>,\n",
              " <matplotlib.lines.Line2D at 0x7fcbdec89f10>]"
            ]
          },
          "metadata": {},
          "execution_count": 28
        },
        {
          "output_type": "display_data",
          "data": {
            "image/png": "[encoded data removed]",
            "text/plain": [
              "<Figure size 432x288 with 1 Axes>"
            ]
          },
          "metadata": {
            "needs_background": "light"
          }
        }
      ],
      "source": [
        "plot(t,inv.T)"
      ]
    },
    {
      "cell_type": "code",
      "execution_count": 29,
      "id": "978dc864",
      "metadata": {
        "id": "978dc864",
        "outputId": "eb0087a0-5131-472b-d1bb-50fe2c123c04",
        "colab": {
          "base_uri": "https://localhost:8080/",
          "height": 282
        }
      },
      "outputs": [
        {
          "output_type": "execute_result",
          "data": {
            "text/plain": [
              "[<matplotlib.lines.Line2D at 0x7fcbdec504d0>]"
            ]
          },
          "metadata": {},
          "execution_count": 29
        },
        {
          "output_type": "display_data",
          "data": {
            "image/png": "[encoded data removed]",
            "text/plain": [
              "<Figure size 432x288 with 1 Axes>"
            ]
          },
          "metadata": {
            "needs_background": "light"
          }
        }
      ],
      "source": [
        "plot(bij.forward_log_det_jacobian(t.reshape([50,1])))"
      ]
    },
    {
      "cell_type": "code",
      "execution_count": 30,
      "id": "ac28f1a7",
      "metadata": {
        "id": "ac28f1a7",
        "outputId": "8e6dbc8f-bba5-4508-a72d-4b3d61345177",
        "colab": {
          "base_uri": "https://localhost:8080/",
          "height": 282
        }
      },
      "outputs": [
        {
          "output_type": "execute_result",
          "data": {
            "text/plain": [
              "[<matplotlib.lines.Line2D at 0x7fcbdea345d0>]"
            ]
          },
          "metadata": {},
          "execution_count": 30
        },
        {
          "output_type": "display_data",
          "data": {
            "image/png": "[encoded data removed]",
            "text/plain": [
              "<Figure size 432x288 with 1 Axes>"
            ]
          },
          "metadata": {
            "needs_background": "light"
          }
        }
      ],
      "source": [
        "plot(bij.inverse_log_det_jacobian(t.reshape([50,1])))"
      ]
    },
    {
      "cell_type": "code",
      "execution_count": null,
      "id": "c91cedb4",
      "metadata": {
        "id": "c91cedb4"
      },
      "outputs": [],
      "source": [
        ""
      ]
    }
  ],
  "metadata": {
    "accelerator": "GPU",
    "colab": {
      "name": "NF_implicit.ipynb",
      "provenance": [],
      "include_colab_link": true
    },
    "kernelspec": {
      "display_name": "Python 3 (ipykernel)",
      "language": "python",
      "name": "python3"
    },
    "language_info": {
      "codemirror_mode": {
        "name": "ipython",
        "version": 3
      },
      "file_extension": ".py",
      "mimetype": "text/x-python",
      "name": "python",
      "nbconvert_exporter": "python",
      "pygments_lexer": "ipython3",
      "version": "3.9.9"
    }
  },
  "nbformat": 4,
  "nbformat_minor": 5
}