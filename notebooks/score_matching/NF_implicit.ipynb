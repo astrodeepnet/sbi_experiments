{
 "cells": [
  {
   "cell_type": "markdown",
   "id": "9941e110",
   "metadata": {
    "colab_type": "text",
    "id": "view-in-github"
   },
   "source": [
    "<a href=\"https://colab.research.google.com/github/astrodeepnet/sbi_experiments/blob/ramp_bijector/notebooks/score_matching/NF_implicit.ipynb\" target=\"_parent\"><img src=\"https://colab.research.google.com/assets/colab-badge.svg\" alt=\"Open In Colab\"/></a>"
   ]
  },
  {
   "cell_type": "markdown",
   "id": "-ksfVXYDmE17",
   "metadata": {
    "id": "-ksfVXYDmE17"
   },
   "source": [
    "# Nomalizing Flow with implicit coupling layers\n"
   ]
  },
  {
   "cell_type": "code",
   "execution_count": 1,
   "id": "3830d842",
   "metadata": {
    "colab": {
     "base_uri": "https://localhost:8080/"
    },
    "id": "3830d842",
    "outputId": "dab497a3-0c79-4d62-c1bd-37beccfdc17e"
   },
   "outputs": [
    {
     "name": "stdout",
     "output_type": "stream",
     "text": [
      "\u001b[?25l\r",
      "\u001b[K     |█▏                              | 10 kB 18.9 MB/s eta 0:00:01\r",
      "\u001b[K     |██▎                             | 20 kB 22.2 MB/s eta 0:00:01\r",
      "\u001b[K     |███▍                            | 30 kB 14.6 MB/s eta 0:00:01\r",
      "\u001b[K     |████▋                           | 40 kB 10.6 MB/s eta 0:00:01\r",
      "\u001b[K     |█████▊                          | 51 kB 8.9 MB/s eta 0:00:01\r",
      "\u001b[K     |██████▉                         | 61 kB 8.5 MB/s eta 0:00:01\r",
      "\u001b[K     |████████                        | 71 kB 7.1 MB/s eta 0:00:01\r",
      "\u001b[K     |█████████▏                      | 81 kB 7.7 MB/s eta 0:00:01\r",
      "\u001b[K     |██████████▎                     | 92 kB 7.8 MB/s eta 0:00:01\r",
      "\u001b[K     |███████████▍                    | 102 kB 7.5 MB/s eta 0:00:01\r",
      "\u001b[K     |████████████▌                   | 112 kB 7.5 MB/s eta 0:00:01\r",
      "\u001b[K     |█████████████▊                  | 122 kB 7.5 MB/s eta 0:00:01\r",
      "\u001b[K     |██████████████▉                 | 133 kB 7.5 MB/s eta 0:00:01\r",
      "\u001b[K     |████████████████                | 143 kB 7.5 MB/s eta 0:00:01\r",
      "\u001b[K     |█████████████████               | 153 kB 7.5 MB/s eta 0:00:01\r",
      "\u001b[K     |██████████████████▎             | 163 kB 7.5 MB/s eta 0:00:01\r",
      "\u001b[K     |███████████████████▍            | 174 kB 7.5 MB/s eta 0:00:01\r",
      "\u001b[K     |████████████████████▌           | 184 kB 7.5 MB/s eta 0:00:01\r",
      "\u001b[K     |█████████████████████▊          | 194 kB 7.5 MB/s eta 0:00:01\r",
      "\u001b[K     |██████████████████████▉         | 204 kB 7.5 MB/s eta 0:00:01\r",
      "\u001b[K     |████████████████████████        | 215 kB 7.5 MB/s eta 0:00:01\r",
      "\u001b[K     |█████████████████████████       | 225 kB 7.5 MB/s eta 0:00:01\r",
      "\u001b[K     |██████████████████████████▎     | 235 kB 7.5 MB/s eta 0:00:01\r",
      "\u001b[K     |███████████████████████████▍    | 245 kB 7.5 MB/s eta 0:00:01\r",
      "\u001b[K     |████████████████████████████▌   | 256 kB 7.5 MB/s eta 0:00:01\r",
      "\u001b[K     |█████████████████████████████▋  | 266 kB 7.5 MB/s eta 0:00:01\r",
      "\u001b[K     |██████████████████████████████▉ | 276 kB 7.5 MB/s eta 0:00:01\r",
      "\u001b[K     |████████████████████████████████| 286 kB 7.5 MB/s eta 0:00:01\r",
      "\u001b[K     |████████████████████████████████| 287 kB 7.5 MB/s \n",
      "\u001b[K     |████████████████████████████████| 126 kB 36.9 MB/s \n",
      "\u001b[K     |████████████████████████████████| 65 kB 2.3 MB/s \n",
      "\u001b[?25h  Building wheel for SBIExperiments (setup.py) ... \u001b[?25l\u001b[?25hdone\n"
     ]
    }
   ],
   "source": [
    "!pip install --quiet --upgrade dm-haiku optax tensorflow-probability\n",
    "!pip install --quiet git+https://github.com/astrodeepnet/sbi_experiments.git@ramp_bijector"
   ]
  },
  {
   "cell_type": "code",
   "execution_count": 1,
   "id": "Hc32pZP7mvkJ",
   "metadata": {
    "colab": {
     "base_uri": "https://localhost:8080/"
    },
    "id": "Hc32pZP7mvkJ",
    "outputId": "392beced-3124-4119-fca3-66f9466f0a1b"
   },
   "outputs": [
    {
     "name": "stdout",
     "output_type": "stream",
     "text": [
      "Populating the interactive namespace from numpy and matplotlib\n"
     ]
    }
   ],
   "source": [
    "%pylab inline\n",
    "%load_ext autoreload\n",
    "%autoreload 2\n",
    "import jax\n",
    "import jax.numpy as jnp\n",
    "import numpy as onp\n",
    "import haiku as hk\n",
    "import optax\n",
    "from functools import partial\n",
    "from tqdm import tqdm\n",
    "from tensorflow_probability.substrates import jax as tfp\n",
    "tfd = tfp.distributions\n",
    "tfb = tfp.bijectors\n",
    "tfpk = tfp.math.psd_kernels"
   ]
  },
  {
   "cell_type": "code",
   "execution_count": 2,
   "id": "Vjg7DR8Mm3ma",
   "metadata": {
    "id": "Vjg7DR8Mm3ma"
   },
   "outputs": [],
   "source": [
    "d=2\n",
    "batch_size = 1024"
   ]
  },
  {
   "cell_type": "code",
   "execution_count": 3,
   "id": "SCV_fApFm5B6",
   "metadata": {
    "id": "SCV_fApFm5B6"
   },
   "outputs": [],
   "source": [
    "from sbiexpt.distributions import get_two_moons\n",
    "from sbiexpt.bijectors import ImplicitRampBijector"
   ]
  },
  {
   "cell_type": "code",
   "execution_count": 4,
   "id": "QlkFc_kMFwdp",
   "metadata": {
    "id": "QlkFc_kMFwdp"
   },
   "outputs": [],
   "source": [
    "@jax.jit\n",
    "def get_batch(seed):\n",
    "  two_moons = get_two_moons(sigma= 0.05)\n",
    "  batch = two_moons.sample(batch_size, seed=seed) / 5 + 0.45\n",
    "  return batch"
   ]
  },
  {
   "cell_type": "code",
   "execution_count": 5,
   "id": "chc6hgEwxoJO",
   "metadata": {
    "colab": {
     "base_uri": "https://localhost:8080/",
     "height": 269
    },
    "id": "chc6hgEwxoJO",
    "outputId": "3f5fec6f-41ff-4ecc-e471-e1ab9f4216dd"
   },
   "outputs": [
    {
     "name": "stderr",
     "output_type": "stream",
     "text": [
      "WARNING:absl:No GPU/TPU found, falling back to CPU. (Set TF_CPP_MIN_LOG_LEVEL=0 and rerun for more info.)\n",
      "2021-12-17 00:28:45.490271: E external/org_tensorflow/tensorflow/stream_executor/cuda/cuda_driver.cc:271] failed call to cuInit: CUDA_ERROR_NO_DEVICE: no CUDA-capable device is detected\n"
     ]
    },
    {
     "data": {
      "image/png": "[encoded data removed]",
      "text/plain": [
       "<Figure size 432x288 with 1 Axes>"
      ]
     },
     "metadata": {
      "needs_background": "light"
     },
     "output_type": "display_data"
    }
   ],
   "source": [
    "batch = get_batch(jax.random.PRNGKey(0))\n",
    "hist2d(batch[:,0], batch[:,1],100, range=[[0,1],[0,1]]); gca().set_aspect('equal');"
   ]
  },
  {
   "cell_type": "code",
   "execution_count": 23,
   "id": "VJDFS8Gd7zTQ",
   "metadata": {
    "id": "VJDFS8Gd7zTQ"
   },
   "outputs": [],
   "source": [
    "class CustomCoupling(hk.Module):\n",
    "  \"\"\"This is the coupling layer used in the Flow.\"\"\"\n",
    "  def __call__(self, x, output_units, **condition_kwargs):\n",
    "\n",
    "    # NN to get a b and c\n",
    "    net = hk.Linear(128)(x)\n",
    "    net = jax.nn.leaky_relu(net)\n",
    "    net = hk.Linear(128)(net)\n",
    "    net = jax.nn.leaky_relu(net)\n",
    "    \n",
    "    log_a_bound=4\n",
    "    min_density_lower_bound=1e-4\n",
    "    \n",
    "    log_a   = jax.nn.tanh(hk.Linear(output_units)(net)) * log_a_bound\n",
    "    b   = jax.nn.sigmoid(hk.Linear(output_units)(net))\n",
    "    c   = min_density_lower_bound + jax.nn.sigmoid(hk.Linear(output_units)(net)) * (1 - min_density_lower_bound)\n",
    "    return ImplicitRampBijector(lambda x: x**5, jnp.exp(log_a),b,c)\n",
    "\n",
    "class Flow(hk.Module):\n",
    "    \"\"\"A normalizing flow using the coupling layers defined\n",
    "    above.\"\"\"\n",
    "    def __call__(self):\n",
    "      chain = tfb.Chain([\n",
    "            tfb.RealNVP(d//2, bijector_fn=CustomCoupling(name = 'b1')),\n",
    "            tfb.Permute([1,0]),\n",
    "            tfb.RealNVP(d//2, bijector_fn=CustomCoupling(name = 'b2')),\n",
    "            tfb.Permute([1,0]),\n",
    "        ])\n",
    "      \n",
    "      nvp = tfd.TransformedDistribution(\n",
    "            tfd.Independent(tfd.TruncatedNormal(0.5*jnp.ones(d), \n",
    "                                                0.3*jnp.ones(d), \n",
    "                                                0.01,0.99),\n",
    "                            reinterpreted_batch_ndims=1),\n",
    "            bijector=chain)\n",
    "        \n",
    "      return nvp"
   ]
  },
  {
   "cell_type": "code",
   "execution_count": 24,
   "id": "ylT0Cf7r8G0e",
   "metadata": {
    "id": "ylT0Cf7r8G0e"
   },
   "outputs": [],
   "source": [
    "model_NF = hk.without_apply_rng(hk.transform(lambda x : Flow()().log_prob(x)))\n",
    "model_inv = hk.without_apply_rng(hk.transform(lambda x : Flow()().bijector.inverse(x)))\n",
    "model_sample = hk.without_apply_rng(hk.transform(lambda : Flow()().sample(1024, seed=next(rng_seq))))"
   ]
  },
  {
   "cell_type": "code",
   "execution_count": 25,
   "id": "-9ZOpqD28Gx1",
   "metadata": {
    "id": "-9ZOpqD28Gx1"
   },
   "outputs": [],
   "source": [
    "rng_seq = hk.PRNGSequence(12)\n",
    "params = model_NF.init(next(rng_seq), jnp.zeros([1,d]))"
   ]
  },
  {
   "cell_type": "code",
   "execution_count": 26,
   "id": "bjXg45N58Gu_",
   "metadata": {
    "id": "bjXg45N58Gu_"
   },
   "outputs": [],
   "source": [
    "# TO DO\n",
    "@jax.jit\n",
    "def loss_fn(params, batch):\n",
    "  log_prob = model_NF.apply(params, batch)\n",
    "  return -jnp.mean(log_prob)"
   ]
  },
  {
   "cell_type": "code",
   "execution_count": 27,
   "id": "vKyWyEct8GsD",
   "metadata": {
    "id": "vKyWyEct8GsD"
   },
   "outputs": [],
   "source": [
    "@jax.jit\n",
    "def update(params, opt_state, batch):\n",
    "    \"\"\"Single SGD update step.\"\"\"\n",
    "    loss, grads = jax.value_and_grad(loss_fn)(params, batch)\n",
    "    updates, new_opt_state = optimizer.update(grads, opt_state)\n",
    "    new_params = optax.apply_updates(params, updates)\n",
    "  \n",
    "    return loss, new_params, new_opt_state"
   ]
  },
  {
   "cell_type": "code",
   "execution_count": 28,
   "id": "y8UW790jFjxK",
   "metadata": {
    "id": "y8UW790jFjxK"
   },
   "outputs": [],
   "source": [
    "learning_rate=0.001\n",
    "optimizer = optax.adam(learning_rate)\n",
    "opt_state = optimizer.init(params)"
   ]
  },
  {
   "cell_type": "code",
   "execution_count": 29,
   "id": "cgpoNZNyFjrY",
   "metadata": {
    "id": "cgpoNZNyFjrY"
   },
   "outputs": [],
   "source": [
    "losses = []\n",
    "master_seed = hk.PRNGSequence(0)"
   ]
  },
  {
   "cell_type": "code",
   "execution_count": 44,
   "id": "5sHvoJrgFjn6",
   "metadata": {
    "colab": {
     "base_uri": "https://localhost:8080/"
    },
    "id": "5sHvoJrgFjn6",
    "outputId": "6376d9ef-e76e-45e5-a3b7-e5b4e0729c5d"
   },
   "outputs": [
    {
     "name": "stderr",
     "output_type": "stream",
     "text": [
      " 22%|███████████▎                                        | 218/1000 [00:47<02:49,  4.62it/s]\n"
     ]
    },
    {
     "ename": "KeyboardInterrupt",
     "evalue": "",
     "output_type": "error",
     "traceback": [
      "\u001b[0;31m---------------------------------------------------------------------------\u001b[0m",
      "\u001b[0;31mKeyboardInterrupt\u001b[0m                         Traceback (most recent call last)",
      "\u001b[0;32m/tmp/ipykernel_5662/682548980.py\u001b[0m in \u001b[0;36m<module>\u001b[0;34m\u001b[0m\n\u001b[1;32m      1\u001b[0m \u001b[0;32mfor\u001b[0m \u001b[0mstep\u001b[0m \u001b[0;32min\u001b[0m \u001b[0mtqdm\u001b[0m\u001b[0;34m(\u001b[0m\u001b[0mrange\u001b[0m\u001b[0;34m(\u001b[0m\u001b[0;36m1000\u001b[0m\u001b[0;34m)\u001b[0m\u001b[0;34m)\u001b[0m\u001b[0;34m:\u001b[0m\u001b[0;34m\u001b[0m\u001b[0;34m\u001b[0m\u001b[0m\n\u001b[0;32m----> 2\u001b[0;31m     \u001b[0mbatch\u001b[0m \u001b[0;34m=\u001b[0m \u001b[0mget_batch\u001b[0m\u001b[0;34m(\u001b[0m\u001b[0mnext\u001b[0m\u001b[0;34m(\u001b[0m\u001b[0mmaster_seed\u001b[0m\u001b[0;34m)\u001b[0m\u001b[0;34m)\u001b[0m\u001b[0;34m\u001b[0m\u001b[0;34m\u001b[0m\u001b[0m\n\u001b[0m\u001b[1;32m      3\u001b[0m     \u001b[0ml\u001b[0m\u001b[0;34m,\u001b[0m \u001b[0mparams\u001b[0m\u001b[0;34m,\u001b[0m \u001b[0mopt_state\u001b[0m \u001b[0;34m=\u001b[0m \u001b[0mupdate\u001b[0m\u001b[0;34m(\u001b[0m\u001b[0mparams\u001b[0m\u001b[0;34m,\u001b[0m \u001b[0mopt_state\u001b[0m\u001b[0;34m,\u001b[0m \u001b[0mbatch\u001b[0m\u001b[0;34m)\u001b[0m\u001b[0;34m\u001b[0m\u001b[0;34m\u001b[0m\u001b[0m\n\u001b[1;32m      4\u001b[0m     \u001b[0mlosses\u001b[0m\u001b[0;34m.\u001b[0m\u001b[0mappend\u001b[0m\u001b[0;34m(\u001b[0m\u001b[0ml\u001b[0m\u001b[0;34m)\u001b[0m\u001b[0;34m\u001b[0m\u001b[0;34m\u001b[0m\u001b[0m\n",
      "\u001b[0;32m~/.local/lib/python3.9/site-packages/haiku/_src/base.py\u001b[0m in \u001b[0;36m__next__\u001b[0;34m(self)\u001b[0m\n\u001b[1;32m    578\u001b[0m   \u001b[0;32mdef\u001b[0m \u001b[0m__next__\u001b[0m\u001b[0;34m(\u001b[0m\u001b[0mself\u001b[0m\u001b[0;34m)\u001b[0m \u001b[0;34m->\u001b[0m \u001b[0mPRNGKey\u001b[0m\u001b[0;34m:\u001b[0m\u001b[0;34m\u001b[0m\u001b[0;34m\u001b[0m\u001b[0m\n\u001b[1;32m    579\u001b[0m     \u001b[0;32mif\u001b[0m \u001b[0;32mnot\u001b[0m \u001b[0mself\u001b[0m\u001b[0;34m.\u001b[0m\u001b[0m_subkeys\u001b[0m\u001b[0;34m:\u001b[0m\u001b[0;34m\u001b[0m\u001b[0;34m\u001b[0m\u001b[0m\n\u001b[0;32m--> 580\u001b[0;31m       \u001b[0mself\u001b[0m\u001b[0;34m.\u001b[0m\u001b[0mreserve\u001b[0m\u001b[0;34m(\u001b[0m\u001b[0mDEFAULT_PRNG_RESERVE_SIZE\u001b[0m\u001b[0;34m)\u001b[0m\u001b[0;34m\u001b[0m\u001b[0;34m\u001b[0m\u001b[0m\n\u001b[0m\u001b[1;32m    581\u001b[0m     \u001b[0;32mreturn\u001b[0m \u001b[0mself\u001b[0m\u001b[0;34m.\u001b[0m\u001b[0m_subkeys\u001b[0m\u001b[0;34m.\u001b[0m\u001b[0mpopleft\u001b[0m\u001b[0;34m(\u001b[0m\u001b[0;34m)\u001b[0m\u001b[0;34m\u001b[0m\u001b[0;34m\u001b[0m\u001b[0m\n\u001b[1;32m    582\u001b[0m \u001b[0;34m\u001b[0m\u001b[0m\n",
      "\u001b[0;32m~/.local/lib/python3.9/site-packages/haiku/_src/base.py\u001b[0m in \u001b[0;36mreserve\u001b[0;34m(self, num)\u001b[0m\n\u001b[1;32m    552\u001b[0m       \u001b[0;31m#\u001b[0m\u001b[0;34m\u001b[0m\u001b[0;34m\u001b[0m\u001b[0m\n\u001b[1;32m    553\u001b[0m       \u001b[0;31m# Where subkey1->subkey4 are provided to the user in order when requested.\u001b[0m\u001b[0;34m\u001b[0m\u001b[0;34m\u001b[0m\u001b[0m\n\u001b[0;32m--> 554\u001b[0;31m       \u001b[0mnew_keys\u001b[0m \u001b[0;34m=\u001b[0m \u001b[0mtuple\u001b[0m\u001b[0;34m(\u001b[0m\u001b[0mjax\u001b[0m\u001b[0;34m.\u001b[0m\u001b[0mrandom\u001b[0m\u001b[0;34m.\u001b[0m\u001b[0msplit\u001b[0m\u001b[0;34m(\u001b[0m\u001b[0mself\u001b[0m\u001b[0;34m.\u001b[0m\u001b[0m_key\u001b[0m\u001b[0;34m,\u001b[0m \u001b[0mnum\u001b[0m \u001b[0;34m+\u001b[0m \u001b[0;36m1\u001b[0m\u001b[0;34m)\u001b[0m\u001b[0;34m)\u001b[0m\u001b[0;34m\u001b[0m\u001b[0;34m\u001b[0m\u001b[0m\n\u001b[0m\u001b[1;32m    555\u001b[0m       \u001b[0mself\u001b[0m\u001b[0;34m.\u001b[0m\u001b[0m_key\u001b[0m \u001b[0;34m=\u001b[0m \u001b[0mnew_keys\u001b[0m\u001b[0;34m[\u001b[0m\u001b[0;36m0\u001b[0m\u001b[0;34m]\u001b[0m\u001b[0;34m\u001b[0m\u001b[0;34m\u001b[0m\u001b[0m\n\u001b[1;32m    556\u001b[0m       \u001b[0mself\u001b[0m\u001b[0;34m.\u001b[0m\u001b[0m_subkeys\u001b[0m\u001b[0;34m.\u001b[0m\u001b[0mextend\u001b[0m\u001b[0;34m(\u001b[0m\u001b[0mnew_keys\u001b[0m\u001b[0;34m[\u001b[0m\u001b[0;36m1\u001b[0m\u001b[0;34m:\u001b[0m\u001b[0;34m]\u001b[0m\u001b[0;34m)\u001b[0m\u001b[0;34m\u001b[0m\u001b[0;34m\u001b[0m\u001b[0m\n",
      "\u001b[0;32m~/.local/lib/python3.9/site-packages/jax/interpreters/xla.py\u001b[0m in \u001b[0;36m__iter__\u001b[0;34m(self)\u001b[0m\n\u001b[1;32m   1243\u001b[0m       \u001b[0;32mraise\u001b[0m \u001b[0mTypeError\u001b[0m\u001b[0;34m(\u001b[0m\u001b[0;34m\"iteration over a 0-d array\"\u001b[0m\u001b[0;34m)\u001b[0m  \u001b[0;31m# same as numpy error\u001b[0m\u001b[0;34m\u001b[0m\u001b[0;34m\u001b[0m\u001b[0m\n\u001b[1;32m   1244\u001b[0m     \u001b[0;32melse\u001b[0m\u001b[0;34m:\u001b[0m\u001b[0;34m\u001b[0m\u001b[0;34m\u001b[0m\u001b[0m\n\u001b[0;32m-> 1245\u001b[0;31m       \u001b[0;32mreturn\u001b[0m \u001b[0mself\u001b[0m\u001b[0;34m.\u001b[0m\u001b[0m_value\u001b[0m\u001b[0;34m.\u001b[0m\u001b[0m__iter__\u001b[0m\u001b[0;34m(\u001b[0m\u001b[0;34m)\u001b[0m\u001b[0;34m\u001b[0m\u001b[0;34m\u001b[0m\u001b[0m\n\u001b[0m\u001b[1;32m   1246\u001b[0m \u001b[0;34m\u001b[0m\u001b[0m\n\u001b[1;32m   1247\u001b[0m   \u001b[0msetattr\u001b[0m\u001b[0;34m(\u001b[0m\u001b[0mdevice_array\u001b[0m\u001b[0;34m,\u001b[0m \u001b[0;34m\"__iter__\"\u001b[0m\u001b[0;34m,\u001b[0m \u001b[0m__iter__\u001b[0m\u001b[0;34m)\u001b[0m\u001b[0;34m\u001b[0m\u001b[0;34m\u001b[0m\u001b[0m\n",
      "\u001b[0;31mKeyboardInterrupt\u001b[0m: "
     ]
    }
   ],
   "source": [
    "for step in tqdm(range(1000)):\n",
    "    batch = get_batch(next(master_seed))\n",
    "    l, params, opt_state = update(params, opt_state, batch)\n",
    "    losses.append(l)"
   ]
  },
  {
   "cell_type": "code",
   "execution_count": 45,
   "id": "7gzKKxIJ8GpA",
   "metadata": {
    "colab": {
     "base_uri": "https://localhost:8080/",
     "height": 282
    },
    "id": "7gzKKxIJ8GpA",
    "outputId": "05efb90e-4ae7-48d8-80b4-6e076364e596"
   },
   "outputs": [
    {
     "data": {
      "text/plain": [
       "[<matplotlib.lines.Line2D at 0x7fc856988160>]"
      ]
     },
     "execution_count": 45,
     "metadata": {},
     "output_type": "execute_result"
    },
    {
     "data": {
      "image/png": "[encoded data removed]",
      "text/plain": [
       "<Figure size 432x288 with 1 Axes>"
      ]
     },
     "metadata": {
      "needs_background": "light"
     },
     "output_type": "display_data"
    }
   ],
   "source": [
    "plot(losses[25:])"
   ]
  },
  {
   "cell_type": "code",
   "execution_count": null,
   "id": "4c33f1c7",
   "metadata": {},
   "outputs": [],
   "source": []
  },
  {
   "cell_type": "code",
   "execution_count": 46,
   "id": "n0LPKdF-zglF",
   "metadata": {
    "colab": {
     "base_uri": "https://localhost:8080/",
     "height": 286
    },
    "id": "n0LPKdF-zglF",
    "outputId": "9f68e3a1-a8ca-44a0-8cff-353989b88be5"
   },
   "outputs": [
    {
     "data": {
      "text/plain": [
       "<matplotlib.colorbar.Colorbar at 0x7fc855fac580>"
      ]
     },
     "execution_count": 46,
     "metadata": {},
     "output_type": "execute_result"
    },
    {
     "data": {
      "image/png": "[encoded data removed]",
      "text/plain": [
       "<Figure size 432x288 with 2 Axes>"
      ]
     },
     "metadata": {
      "needs_background": "light"
     },
     "output_type": "display_data"
    }
   ],
   "source": [
    "x = jnp.stack(jnp.meshgrid(jnp.linspace(0.1,0.9),\n",
    "                           jnp.linspace(0.1,0.9)),-1)\n",
    "\n",
    "im = model_NF.apply(params, x.reshape(-1,2)).reshape([50,50])\n",
    "contourf(x[...,0],x[...,1],jnp.exp(im),100); colorbar()"
   ]
  },
  {
   "cell_type": "code",
   "execution_count": 48,
   "id": "YDTVYHhmz4Y-",
   "metadata": {
    "colab": {
     "base_uri": "https://localhost:8080/",
     "height": 269
    },
    "id": "YDTVYHhmz4Y-",
    "outputId": "5c1dd7f7-82a9-41c7-993b-cf33365771f0"
   },
   "outputs": [
    {
     "data": {
      "image/png": "[encoded data removed]",
      "text/plain": [
       "<Figure size 432x288 with 1 Axes>"
      ]
     },
     "metadata": {
      "needs_background": "light"
     },
     "output_type": "display_data"
    }
   ],
   "source": [
    "hist2d(batch[:,0], batch[:,1],100, range=[[0,1],[0,1]]);gca().set_aspect('equal');"
   ]
  },
  {
   "cell_type": "code",
   "execution_count": 49,
   "id": "427774db",
   "metadata": {},
   "outputs": [],
   "source": [
    "x = model_inv.apply(params, batch)"
   ]
  },
  {
   "cell_type": "code",
   "execution_count": 50,
   "id": "acdc9ad7",
   "metadata": {},
   "outputs": [
    {
     "data": {
      "image/png": "[encoded data removed]",
      "text/plain": [
       "<Figure size 432x288 with 1 Axes>"
      ]
     },
     "metadata": {
      "needs_background": "light"
     },
     "output_type": "display_data"
    }
   ],
   "source": [
    "hist2d(x[:,0], x[:,1],100, range=[[0,1],[0,1]]);gca().set_aspect('equal');"
   ]
  },
  {
   "cell_type": "code",
   "execution_count": 42,
   "id": "db6d76ae",
   "metadata": {},
   "outputs": [],
   "source": [
    "x = model_sample.apply(params)"
   ]
  },
  {
   "cell_type": "code",
   "execution_count": 43,
   "id": "3a65c01d",
   "metadata": {},
   "outputs": [
    {
     "data": {
      "image/png": "[encoded data removed]",
      "text/plain": [
       "<Figure size 432x288 with 1 Axes>"
      ]
     },
     "metadata": {
      "needs_background": "light"
     },
     "output_type": "display_data"
    }
   ],
   "source": [
    "hist2d(x[:,0], x[:,1],100, range=[[0,1],[0,1]]);gca().set_aspect('equal');"
   ]
  },
  {
   "cell_type": "code",
   "execution_count": 95,
   "id": "o019FNr21icQ",
   "metadata": {
    "id": "o019FNr21icQ"
   },
   "outputs": [],
   "source": [
    "coupl = hk.without_apply_rng(hk.transform(lambda x: CustomCoupling(name = 'b2')(x,1)))"
   ]
  },
  {
   "cell_type": "code",
   "execution_count": 96,
   "id": "bf4affb1",
   "metadata": {},
   "outputs": [],
   "source": [
    "predicate = lambda module_name, name, value: 'flow/b2' in module_name\n",
    "params_b1 = hk.data_structures.filter(predicate, params) "
   ]
  },
  {
   "cell_type": "code",
   "execution_count": 97,
   "id": "fabe87c6",
   "metadata": {},
   "outputs": [],
   "source": [
    "params_b1=hk.data_structures.to_mutable_dict(params_b1)\n",
    "params_b1={k.split('flow/')[1]:params_b1[k] for k in params_b1.keys()}"
   ]
  },
  {
   "cell_type": "code",
   "execution_count": 98,
   "id": "d1d84137",
   "metadata": {},
   "outputs": [],
   "source": [
    "t = jnp.linspace(0,1)\n",
    "bij = coupl.apply(params_b1, t.reshape([50,1]))"
   ]
  },
  {
   "cell_type": "code",
   "execution_count": 99,
   "id": "c080fb6b",
   "metadata": {},
   "outputs": [
    {
     "data": {
      "text/plain": [
       "[<matplotlib.lines.Line2D at 0x7fe815b458b0>]"
      ]
     },
     "execution_count": 99,
     "metadata": {},
     "output_type": "execute_result"
    },
    {
     "data": {
      "image/png": "[encoded data removed]",
      "text/plain": [
       "<Figure size 432x288 with 1 Axes>"
      ]
     },
     "metadata": {
      "needs_background": "light"
     },
     "output_type": "display_data"
    }
   ],
   "source": [
    "plot(t,bij(t)[30])"
   ]
  },
  {
   "cell_type": "code",
   "execution_count": 100,
   "id": "3491c9d7",
   "metadata": {},
   "outputs": [],
   "source": [
    "inv = bij.inverse(1*bij(t))"
   ]
  },
  {
   "cell_type": "code",
   "execution_count": 101,
   "id": "fff25ef0",
   "metadata": {},
   "outputs": [
    {
     "data": {
      "text/plain": [
       "[<matplotlib.lines.Line2D at 0x7fe81766b790>,\n",
       " <matplotlib.lines.Line2D at 0x7fe86c2b4190>,\n",
       " <matplotlib.lines.Line2D at 0x7fe817655a00>,\n",
       " <matplotlib.lines.Line2D at 0x7fe817cfbf10>,\n",
       " <matplotlib.lines.Line2D at 0x7fe817d00730>,\n",
       " <matplotlib.lines.Line2D at 0x7fe8194ea3d0>,\n",
       " <matplotlib.lines.Line2D at 0x7fe817b26af0>,\n",
       " <matplotlib.lines.Line2D at 0x7fe81765e190>,\n",
       " <matplotlib.lines.Line2D at 0x7fe8175b24c0>,\n",
       " <matplotlib.lines.Line2D at 0x7fe8887c0d30>,\n",
       " <matplotlib.lines.Line2D at 0x7fe86c129ee0>,\n",
       " <matplotlib.lines.Line2D at 0x7fe81821f520>,\n",
       " <matplotlib.lines.Line2D at 0x7fe817ce7fd0>,\n",
       " <matplotlib.lines.Line2D at 0x7fe817cc5b50>,\n",
       " <matplotlib.lines.Line2D at 0x7fe817a6df10>,\n",
       " <matplotlib.lines.Line2D at 0x7fe817b04790>,\n",
       " <matplotlib.lines.Line2D at 0x7fe8192340a0>,\n",
       " <matplotlib.lines.Line2D at 0x7fe8192d7f70>,\n",
       " <matplotlib.lines.Line2D at 0x7fe8192541c0>,\n",
       " <matplotlib.lines.Line2D at 0x7fe8177215e0>,\n",
       " <matplotlib.lines.Line2D at 0x7fe8177213a0>,\n",
       " <matplotlib.lines.Line2D at 0x7fe819172700>,\n",
       " <matplotlib.lines.Line2D at 0x7fe817721f70>,\n",
       " <matplotlib.lines.Line2D at 0x7fe81930b490>,\n",
       " <matplotlib.lines.Line2D at 0x7fe817708730>,\n",
       " <matplotlib.lines.Line2D at 0x7fe817708100>,\n",
       " <matplotlib.lines.Line2D at 0x7fe817708be0>,\n",
       " <matplotlib.lines.Line2D at 0x7fe819290070>,\n",
       " <matplotlib.lines.Line2D at 0x7fe817728f40>,\n",
       " <matplotlib.lines.Line2D at 0x7fe817728a60>,\n",
       " <matplotlib.lines.Line2D at 0x7fe8177284f0>,\n",
       " <matplotlib.lines.Line2D at 0x7fe817716580>,\n",
       " <matplotlib.lines.Line2D at 0x7fe84023c640>,\n",
       " <matplotlib.lines.Line2D at 0x7fe84023c1c0>,\n",
       " <matplotlib.lines.Line2D at 0x7fe817716cd0>,\n",
       " <matplotlib.lines.Line2D at 0x7fe819e91520>,\n",
       " <matplotlib.lines.Line2D at 0x7fe8194828b0>,\n",
       " <matplotlib.lines.Line2D at 0x7fe8194564f0>,\n",
       " <matplotlib.lines.Line2D at 0x7fe819914ee0>,\n",
       " <matplotlib.lines.Line2D at 0x7fe8177f9be0>,\n",
       " <matplotlib.lines.Line2D at 0x7fe8177f9790>,\n",
       " <matplotlib.lines.Line2D at 0x7fe8177f94f0>,\n",
       " <matplotlib.lines.Line2D at 0x7fe8177f9e80>,\n",
       " <matplotlib.lines.Line2D at 0x7fe819249370>,\n",
       " <matplotlib.lines.Line2D at 0x7fe888319b80>,\n",
       " <matplotlib.lines.Line2D at 0x7fe84015e460>,\n",
       " <matplotlib.lines.Line2D at 0x7fe819249f10>,\n",
       " <matplotlib.lines.Line2D at 0x7fe8401a4af0>,\n",
       " <matplotlib.lines.Line2D at 0x7fe86c445bb0>,\n",
       " <matplotlib.lines.Line2D at 0x7fe819382910>]"
      ]
     },
     "execution_count": 101,
     "metadata": {},
     "output_type": "execute_result"
    },
    {
     "data": {
      "image/png": "[encoded data removed]",
      "text/plain": [
       "<Figure size 432x288 with 1 Axes>"
      ]
     },
     "metadata": {
      "needs_background": "light"
     },
     "output_type": "display_data"
    }
   ],
   "source": [
    "plot(t,inv.T)"
   ]
  },
  {
   "cell_type": "code",
   "execution_count": 105,
   "id": "978dc864",
   "metadata": {},
   "outputs": [
    {
     "data": {
      "text/plain": [
       "[<matplotlib.lines.Line2D at 0x7fe817764940>]"
      ]
     },
     "execution_count": 105,
     "metadata": {},
     "output_type": "execute_result"
    },
    {
     "data": {
      "image/png": "[encoded data removed]",
      "text/plain": [
       "<Figure size 432x288 with 1 Axes>"
      ]
     },
     "metadata": {
      "needs_background": "light"
     },
     "output_type": "display_data"
    }
   ],
   "source": [
    "plot(bij.forward_log_det_jacobian(t.reshape([50,1])))"
   ]
  },
  {
   "cell_type": "code",
   "execution_count": 106,
   "id": "ac28f1a7",
   "metadata": {},
   "outputs": [
    {
     "data": {
      "text/plain": [
       "[<matplotlib.lines.Line2D at 0x7fe80cf9fdc0>]"
      ]
     },
     "execution_count": 106,
     "metadata": {},
     "output_type": "execute_result"
    },
    {
     "data": {
      "image/png": "[encoded data removed]",
      "text/plain": [
       "<Figure size 432x288 with 1 Axes>"
      ]
     },
     "metadata": {
      "needs_background": "light"
     },
     "output_type": "display_data"
    }
   ],
   "source": [
    "plot(bij.inverse_log_det_jacobian(t.reshape([50,1])))"
   ]
  },
  {
   "cell_type": "code",
   "execution_count": null,
   "id": "c91cedb4",
   "metadata": {},
   "outputs": [],
   "source": []
  }
 ],
 "metadata": {
  "accelerator": "GPU",
  "colab": {
   "include_colab_link": true,
   "name": "NF_implicit.ipynb",
   "provenance": []
  },
  "kernelspec": {
   "display_name": "Python 3 (ipykernel)",
   "language": "python",
   "name": "python3"
  },
  "language_info": {
   "codemirror_mode": {
    "name": "ipython",
    "version": 3
   },
   "file_extension": ".py",
   "mimetype": "text/x-python",
   "name": "python",
   "nbconvert_exporter": "python",
   "pygments_lexer": "ipython3",
   "version": "3.9.9"
  }
 },
 "nbformat": 4,
 "nbformat_minor": 5
}
