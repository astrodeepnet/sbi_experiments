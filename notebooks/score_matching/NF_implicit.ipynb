{
  "cells": [
    {
      "cell_type": "markdown",
      "metadata": {
        "id": "view-in-github",
        "colab_type": "text"
      },
      "source": [
        "<a href=\"https://colab.research.google.com/github/astrodeepnet/sbi_experiments/blob/ramp_bijector/notebooks/score_matching/NF_implicit.ipynb\" target=\"_parent\"><img src=\"https://colab.research.google.com/assets/colab-badge.svg\" alt=\"Open In Colab\"/></a>"
      ]
    },
    {
      "cell_type": "markdown",
      "id": "-ksfVXYDmE17",
      "metadata": {
        "id": "-ksfVXYDmE17"
      },
      "source": [
        "# Nomalizing Flow with implicit coupling layers\n"
      ]
    },
    {
      "cell_type": "code",
      "execution_count": 1,
      "id": "3830d842",
      "metadata": {
        "colab": {
          "base_uri": "https://localhost:8080/"
        },
        "id": "3830d842",
        "outputId": "e274e8ad-986b-48e0-ba64-ffa25bdea083"
      },
      "outputs": [
        {
          "output_type": "stream",
          "name": "stdout",
          "text": [
            "\u001b[K     |████████████████████████████████| 287 kB 10.1 MB/s \n",
            "\u001b[K     |████████████████████████████████| 126 kB 55.2 MB/s \n",
            "\u001b[K     |████████████████████████████████| 65 kB 4.5 MB/s \n",
            "\u001b[?25h  Building wheel for SBIExperiments (setup.py) ... \u001b[?25l\u001b[?25hdone\n"
          ]
        }
      ],
      "source": [
        "!pip install --quiet --upgrade dm-haiku optax tensorflow-probability\n",
        "!pip install --quiet git+https://github.com/astrodeepnet/sbi_experiments.git@ramp_bijector"
      ]
    },
    {
      "cell_type": "code",
      "execution_count": 1,
      "id": "Hc32pZP7mvkJ",
      "metadata": {
        "colab": {
          "base_uri": "https://localhost:8080/"
        },
        "id": "Hc32pZP7mvkJ",
        "outputId": "5f5f6b91-9326-4b00-a223-292d19dc95b5"
      },
      "outputs": [
        {
          "output_type": "stream",
          "name": "stdout",
          "text": [
            "Populating the interactive namespace from numpy and matplotlib\n"
          ]
        }
      ],
      "source": [
        "%pylab inline\n",
        "%load_ext autoreload\n",
        "%autoreload 2\n",
        "import jax\n",
        "import jax.numpy as jnp\n",
        "import numpy as onp\n",
        "import haiku as hk\n",
        "import optax\n",
        "from functools import partial\n",
        "from tqdm import tqdm\n",
        "from tensorflow_probability.substrates import jax as tfp\n",
        "tfd = tfp.distributions\n",
        "tfb = tfp.bijectors\n",
        "tfpk = tfp.math.psd_kernels"
      ]
    },
    {
      "cell_type": "code",
      "execution_count": 2,
      "id": "Vjg7DR8Mm3ma",
      "metadata": {
        "id": "Vjg7DR8Mm3ma"
      },
      "outputs": [],
      "source": [
        "d=2\n",
        "batch_size = 1024"
      ]
    },
    {
      "cell_type": "code",
      "execution_count": 3,
      "id": "SCV_fApFm5B6",
      "metadata": {
        "id": "SCV_fApFm5B6"
      },
      "outputs": [],
      "source": [
        "from sbiexpt.distributions import get_two_moons\n",
        "from sbiexpt.bijectors import ImplicitRampBijector"
      ]
    },
    {
      "cell_type": "code",
      "execution_count": 4,
      "id": "QlkFc_kMFwdp",
      "metadata": {
        "id": "QlkFc_kMFwdp"
      },
      "outputs": [],
      "source": [
        "@jax.jit\n",
        "def get_batch(seed):\n",
        "  two_moons = get_two_moons(sigma= 0.05)\n",
        "  batch = two_moons.sample(batch_size, seed=seed) / 5 + 0.45\n",
        "  return batch"
      ]
    },
    {
      "cell_type": "code",
      "source": [
        "batch = get_batch(jax.random.PRNGKey(0))\n",
        "hist2d(batch[:,0], batch[:,1],100, range=[[0,1],[0,1]]);"
      ],
      "metadata": {
        "id": "chc6hgEwxoJO",
        "outputId": "d5d5cdc5-7194-4a17-e460-72365cf84649",
        "colab": {
          "base_uri": "https://localhost:8080/",
          "height": 269
        }
      },
      "id": "chc6hgEwxoJO",
      "execution_count": 5,
      "outputs": [
        {
          "output_type": "display_data",
          "data": {
            "image/png": "[encoded data removed]",
            "text/plain": [
              "<Figure size 432x288 with 1 Axes>"
            ]
          },
          "metadata": {
            "needs_background": "light"
          }
        }
      ]
    },
    {
      "cell_type": "code",
      "execution_count": 6,
      "id": "VJDFS8Gd7zTQ",
      "metadata": {
        "id": "VJDFS8Gd7zTQ"
      },
      "outputs": [],
      "source": [
        "class CustomCoupling(hk.Module):\n",
        "  \"\"\"This is the coupling layer used in the Flow.\"\"\"\n",
        "  def __call__(self, x, output_units, **condition_kwargs):\n",
        "\n",
        "    # NN to get a b and c\n",
        "    net = hk.Linear(128)(x)\n",
        "    net = jax.nn.leaky_relu(net)\n",
        "    net = hk.Linear(128)(net)\n",
        "    net = jax.nn.leaky_relu(net)\n",
        "    a   = jax.nn.softplus(hk.Linear(output_units)(net))\n",
        "    b   = jax.nn.sigmoid(hk.Linear(output_units)(net))*0.99 + 0.005\n",
        "    c   = jax.nn.sigmoid(hk.Linear(output_units)(net))*0.95 + 0.02\n",
        "    return ImplicitRampBijector(lambda x: x**3, a,b,c)\n",
        "\n",
        "class Flow(hk.Module):\n",
        "    \"\"\"A normalizing flow using the coupling layers defined\n",
        "    above.\"\"\"\n",
        "    def __call__(self):\n",
        "      chain = tfb.Chain([\n",
        "            tfb.RealNVP(d//2, bijector_fn=CustomCoupling(name = 'b1')),\n",
        "            tfb.Permute([1,0]),\n",
        "            tfb.RealNVP(d//2, bijector_fn=CustomCoupling(name = 'b2')),\n",
        "            tfb.Permute([1,0]),\n",
        "        ])\n",
        "      \n",
        "      nvp = tfd.TransformedDistribution(\n",
        "            tfd.MultivariateNormalDiag(0.5*jnp.ones(d),0.1*jnp.ones(d)),\n",
        "            bijector=chain)\n",
        "        \n",
        "      return nvp"
      ]
    },
    {
      "cell_type": "code",
      "execution_count": 7,
      "id": "ylT0Cf7r8G0e",
      "metadata": {
        "id": "ylT0Cf7r8G0e"
      },
      "outputs": [],
      "source": [
        "model_NF = hk.without_apply_rng(hk.transform(lambda x : Flow()().log_prob(x)))"
      ]
    },
    {
      "cell_type": "code",
      "execution_count": 8,
      "id": "-9ZOpqD28Gx1",
      "metadata": {
        "id": "-9ZOpqD28Gx1"
      },
      "outputs": [],
      "source": [
        "rng_seq = hk.PRNGSequence(12)\n",
        "params = model_NF.init(next(rng_seq), jnp.zeros([1,d]))"
      ]
    },
    {
      "cell_type": "code",
      "execution_count": 9,
      "id": "bjXg45N58Gu_",
      "metadata": {
        "id": "bjXg45N58Gu_"
      },
      "outputs": [],
      "source": [
        "# TO DO\n",
        "@jax.jit\n",
        "def loss_fn(params, batch):\n",
        "  log_prob = model_NF.apply(params, batch)\n",
        "  return -jnp.mean(log_prob)"
      ]
    },
    {
      "cell_type": "code",
      "execution_count": 10,
      "id": "vKyWyEct8GsD",
      "metadata": {
        "id": "vKyWyEct8GsD"
      },
      "outputs": [],
      "source": [
        "@jax.jit\n",
        "def update(params, opt_state, batch):\n",
        "    \"\"\"Single SGD update step.\"\"\"\n",
        "    loss, grads = jax.value_and_grad(loss_fn)(params, batch)\n",
        "    updates, new_opt_state = optimizer.update(grads, opt_state)\n",
        "    new_params = optax.apply_updates(params, updates)\n",
        "  \n",
        "    return loss, new_params, new_opt_state"
      ]
    },
    {
      "cell_type": "code",
      "execution_count": 11,
      "id": "y8UW790jFjxK",
      "metadata": {
        "id": "y8UW790jFjxK"
      },
      "outputs": [],
      "source": [
        "learning_rate=0.001\n",
        "optimizer = optax.adam(learning_rate)\n",
        "opt_state = optimizer.init(params)"
      ]
    },
    {
      "cell_type": "code",
      "execution_count": 12,
      "id": "cgpoNZNyFjrY",
      "metadata": {
        "id": "cgpoNZNyFjrY"
      },
      "outputs": [],
      "source": [
        "losses = []\n",
        "master_seed = hk.PRNGSequence(0)"
      ]
    },
    {
      "cell_type": "code",
      "execution_count": 16,
      "id": "5sHvoJrgFjn6",
      "metadata": {
        "colab": {
          "base_uri": "https://localhost:8080/"
        },
        "id": "5sHvoJrgFjn6",
        "outputId": "85b2b95f-b404-470b-e113-d9a697c61201"
      },
      "outputs": [
        {
          "output_type": "stream",
          "name": "stderr",
          "text": [
            "100%|██████████| 100/100 [00:00<00:00, 129.86it/s]\n"
          ]
        }
      ],
      "source": [
        "for step in tqdm(range(100)):\n",
        "    batch = get_batch(next(master_seed))\n",
        "    l, params, opt_state = update(params, opt_state, batch)\n",
        "    losses.append(l)"
      ]
    },
    {
      "cell_type": "code",
      "execution_count": 17,
      "id": "7gzKKxIJ8GpA",
      "metadata": {
        "id": "7gzKKxIJ8GpA",
        "outputId": "73778113-2bf8-4c10-eca7-10ff86c3499f",
        "colab": {
          "base_uri": "https://localhost:8080/",
          "height": 282
        }
      },
      "outputs": [
        {
          "output_type": "execute_result",
          "data": {
            "text/plain": [
              "[<matplotlib.lines.Line2D at 0x7fc9c8f26c10>]"
            ]
          },
          "metadata": {},
          "execution_count": 17
        },
        {
          "output_type": "display_data",
          "data": {
            "image/png": "[encoded data removed]",
            "text/plain": [
              "<Figure size 432x288 with 1 Axes>"
            ]
          },
          "metadata": {
            "needs_background": "light"
          }
        }
      ],
      "source": [
        "plot(losses)"
      ]
    },
    {
      "cell_type": "code",
      "source": [
        "x = jnp.stack(jnp.meshgrid(jnp.linspace(0,1),\n",
        "                           jnp.linspace(0,1)),-1)\n",
        "\n",
        "imshow(model_NF.apply(params, x.reshape(-1,2)).reshape([50,50]))"
      ],
      "metadata": {
        "id": "n0LPKdF-zglF"
      },
      "id": "n0LPKdF-zglF",
      "execution_count": null,
      "outputs": []
    },
    {
      "cell_type": "code",
      "source": [
        ""
      ],
      "metadata": {
        "id": "YDTVYHhmz4Y-"
      },
      "id": "YDTVYHhmz4Y-",
      "execution_count": null,
      "outputs": []
    }
  ],
  "metadata": {
    "accelerator": "GPU",
    "colab": {
      "name": "NF_implicit.ipynb",
      "provenance": [],
      "include_colab_link": true
    },
    "kernelspec": {
      "display_name": "Python 3",
      "name": "python3"
    },
    "language_info": {
      "name": "python"
    }
  },
  "nbformat": 4,
  "nbformat_minor": 5
}