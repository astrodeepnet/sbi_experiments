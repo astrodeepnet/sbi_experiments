{
  "cells": [
    {
      "cell_type": "markdown",
      "metadata": {
        "id": "view-in-github",
        "colab_type": "text"
      },
      "source": [
        "<a href=\"https://colab.research.google.com/github/astrodeepnet/sbi_experiments/blob/affine_sigmoid_bijecctor/notebooks/score_matching/NF_mixture_sigmoid.ipynb\" target=\"_parent\"><img src=\"https://colab.research.google.com/assets/colab-badge.svg\" alt=\"Open In Colab\"/></a>"
      ]
    },
    {
      "cell_type": "markdown",
      "id": "-ksfVXYDmE17",
      "metadata": {
        "id": "-ksfVXYDmE17"
      },
      "source": [
        "# Nomalizing Flow with implicit coupling layers\n"
      ]
    },
    {
      "cell_type": "code",
      "execution_count": 1,
      "id": "3830d842",
      "metadata": {
        "colab": {
          "base_uri": "https://localhost:8080/"
        },
        "id": "3830d842",
        "outputId": "b839a062-ae62-4c52-e9b7-6cb96714b648"
      },
      "outputs": [
        {
          "output_type": "stream",
          "name": "stdout",
          "text": [
            "\u001b[K     |████████████████████████████████| 1.7 MB 5.2 MB/s \n",
            "     |████████████████████████████████| 850 kB 5.6 MB/s            \n",
            "\u001b[?25h  Preparing metadata (setup.py) ... \u001b[?25l\u001b[?25hdone\n",
            "     |████████████████████████████████| 149.4 MB 16 kB/s             \n",
            "\u001b[?25h  Building wheel for jax (setup.py) ... \u001b[?25l\u001b[?25hdone\n",
            "\u001b[33mWARNING: Running pip as the 'root' user can result in broken permissions and conflicting behaviour with the system package manager. It is recommended to use a virtual environment instead: https://pip.pypa.io/warnings/venv\u001b[0m\n",
            "     |████████████████████████████████| 287 kB 5.4 MB/s            \n",
            "     |████████████████████████████████| 126 kB 69.4 MB/s            \n",
            "     |████████████████████████████████| 98 kB 9.7 MB/s             \n",
            "     |████████████████████████████████| 65 kB 3.7 MB/s             \n",
            "\u001b[33mWARNING: Running pip as the 'root' user can result in broken permissions and conflicting behaviour with the system package manager. It is recommended to use a virtual environment instead: https://pip.pypa.io/warnings/venv\u001b[0m\n",
            "\u001b[?25h  Preparing metadata (setup.py) ... \u001b[?25l\u001b[?25hdone\n",
            "  Building wheel for SBIExperiments (setup.py) ... \u001b[?25l\u001b[?25hdone\n",
            "\u001b[33mWARNING: Running pip as the 'root' user can result in broken permissions and conflicting behaviour with the system package manager. It is recommended to use a virtual environment instead: https://pip.pypa.io/warnings/venv\u001b[0m\n"
          ]
        }
      ],
      "source": [
        "!pip install --quiet --upgrade pip\n",
        "# Installs the wheel compatible with CUDA 11 and cuDNN 8.2 or newer.\n",
        "!pip install --quiet --upgrade \"jax[cuda]\" -f https://storage.googleapis.com/jax-releases/jax_releases.html  # Note: wheels only available on linux.\n",
        "!pip install --quiet --upgrade dm-haiku optax tensorflow-probability jaxopt\n",
        "!pip install --quiet git+https://github.com/astrodeepnet/sbi_experiments.git@affine_sigmoid_bijecctor"
      ]
    },
    {
      "cell_type": "code",
      "execution_count": 2,
      "id": "Hc32pZP7mvkJ",
      "metadata": {
        "colab": {
          "base_uri": "https://localhost:8080/"
        },
        "id": "Hc32pZP7mvkJ",
        "outputId": "54786a88-84a0-4a8d-a5f4-ed83b446d6f9"
      },
      "outputs": [
        {
          "output_type": "stream",
          "name": "stdout",
          "text": [
            "Populating the interactive namespace from numpy and matplotlib\n"
          ]
        }
      ],
      "source": [
        "%pylab inline\n",
        "%load_ext autoreload\n",
        "%autoreload 2\n",
        "import jax\n",
        "import jax.numpy as jnp\n",
        "import numpy as onp\n",
        "import haiku as hk\n",
        "import optax\n",
        "from functools import partial\n",
        "from tqdm import tqdm\n",
        "from tensorflow_probability.substrates import jax as tfp\n",
        "tfd = tfp.distributions\n",
        "tfb = tfp.bijectors\n",
        "tfpk = tfp.math.psd_kernels"
      ]
    },
    {
      "cell_type": "code",
      "execution_count": 3,
      "id": "Vjg7DR8Mm3ma",
      "metadata": {
        "id": "Vjg7DR8Mm3ma"
      },
      "outputs": [],
      "source": [
        "d=2\n",
        "batch_size = 1024"
      ]
    },
    {
      "cell_type": "code",
      "execution_count": 4,
      "id": "SCV_fApFm5B6",
      "metadata": {
        "id": "SCV_fApFm5B6"
      },
      "outputs": [],
      "source": [
        "from sbiexpt.distributions import get_two_moons\n",
        "from sbiexpt.bijectors import MixtureAffineSigmoidBijector "
      ]
    },
    {
      "cell_type": "code",
      "execution_count": 7,
      "id": "QlkFc_kMFwdp",
      "metadata": {
        "id": "QlkFc_kMFwdp"
      },
      "outputs": [],
      "source": [
        "@jax.jit\n",
        "def get_batch(seed):\n",
        "  two_moons = get_two_moons(sigma = 0.01, normalized=True)\n",
        "  #seed = jax.random.PRNGKey(0)  # Uncomment to fix the samples\n",
        "  batch = two_moons.sample(batch_size, seed=seed)\n",
        "  score = jax.vmap(jax.grad(two_moons.log_prob))(batch)\n",
        "  return batch, score"
      ]
    },
    {
      "cell_type": "code",
      "execution_count": 8,
      "id": "chc6hgEwxoJO",
      "metadata": {
        "colab": {
          "base_uri": "https://localhost:8080/",
          "height": 269
        },
        "id": "chc6hgEwxoJO",
        "outputId": "e507dfbf-b204-4ac7-f503-3f94d188cdde"
      },
      "outputs": [
        {
          "output_type": "display_data",
          "data": {
            "image/png": "[encoded data removed]",
            "text/plain": [
              "<Figure size 432x288 with 1 Axes>"
            ]
          },
          "metadata": {
            "needs_background": "light"
          }
        }
      ],
      "source": [
        "batch, score = get_batch(jax.random.PRNGKey(0))\n",
        "hist2d(batch[:,0], batch[:,1],100, range=[[0,1],[0,1]]); gca().set_aspect('equal');"
      ]
    },
    {
      "cell_type": "code",
      "execution_count": 26,
      "id": "VJDFS8Gd7zTQ",
      "metadata": {
        "id": "VJDFS8Gd7zTQ"
      },
      "outputs": [],
      "source": [
        "class CustomCoupling(hk.Module):\n",
        "  \"\"\"This is the coupling layer used in the Flow.\"\"\"\n",
        "  def __call__(self, x, output_units, **condition_kwargs):\n",
        "\n",
        "    # NN to get a b and c\n",
        "    net = hk.Linear(256, name='l1')(x)\n",
        "    net = jax.nn.silu(net)\n",
        "    net = hk.Linear(256, name='l2')(net)\n",
        "    net = jax.nn.silu(net)\n",
        "    \n",
        "    log_a_bound=4\n",
        "    min_density_lower_bound=1e-4\n",
        "    n_components = 16\n",
        "    \n",
        "    log_a = jax.nn.tanh(hk.Linear(output_units*n_components, name='l3')(net)) * log_a_bound\n",
        "    b   = hk.Linear(output_units*n_components, name='l4')(net)\n",
        "    c   = min_density_lower_bound + jax.nn.sigmoid(hk.Linear(output_units*n_components, name='l5')(net)) * (1 - min_density_lower_bound)\n",
        "    p = jax.nn.softmax(hk.Linear(n_components, name='l6')(net))\n",
        "    return MixtureAffineSigmoidBijector(jnp.exp(log_a),b,c, p)\n",
        "\n",
        "class Flow(hk.Module):\n",
        "    \"\"\"A normalizing flow using the coupling layers defined\n",
        "    above.\"\"\"\n",
        "    def __call__(self):\n",
        "      chain = tfb.Chain([\n",
        "            tfb.RealNVP(d//2, bijector_fn=CustomCoupling(name = 'b1')),\n",
        "            # tfb.Permute([1,0]),\n",
        "            # tfb.RealNVP(d//2, bijector_fn=CustomCoupling(name = 'b2')),\n",
        "            # tfb.Permute([1,0]),\n",
        "        ])\n",
        "      \n",
        "      nvp = tfd.TransformedDistribution(\n",
        "            tfd.Independent(tfd.TruncatedNormal(0.5*jnp.ones(d), \n",
        "                                                0.1*jnp.ones(d), \n",
        "                                                0.01,0.99),\n",
        "                            reinterpreted_batch_ndims=1),\n",
        "            bijector=chain)\n",
        "        \n",
        "      return nvp"
      ]
    },
    {
      "cell_type": "code",
      "execution_count": 27,
      "id": "ylT0Cf7r8G0e",
      "metadata": {
        "id": "ylT0Cf7r8G0e"
      },
      "outputs": [],
      "source": [
        "model_NF = hk.without_apply_rng(hk.transform(lambda x : Flow()().log_prob(x)))\n",
        "model_inv = hk.without_apply_rng(hk.transform(lambda x : Flow()().bijector.inverse(x)))\n",
        "model_sample = hk.without_apply_rng(hk.transform(lambda : Flow()().sample(1024, seed=next(rng_seq))))"
      ]
    },
    {
      "cell_type": "code",
      "execution_count": 28,
      "id": "-9ZOpqD28Gx1",
      "metadata": {
        "id": "-9ZOpqD28Gx1"
      },
      "outputs": [],
      "source": [
        "rng_seq = hk.PRNGSequence(12)\n",
        "params = model_NF.init(next(rng_seq), jnp.zeros([1,d]))"
      ]
    },
    {
      "cell_type": "code",
      "execution_count": 29,
      "id": "bjXg45N58Gu_",
      "metadata": {
        "id": "bjXg45N58Gu_"
      },
      "outputs": [],
      "source": [
        "# This the loss by NLL\n",
        "# def loss_fn(params, batch, score):\n",
        "#   log_prob = jax.vmap((lambda x: model_NF.apply(params, x.reshape([1,2])).squeeze()))(batch)\n",
        "#   return -jnp.mean(log_prob)\n",
        "\n",
        "# This is the loss for score matching\n",
        "def loss_fn(params, batch, score):\n",
        "  log_prob, out = jax.vmap(jax.value_and_grad(lambda x, p: model_NF.apply(p, x.reshape([1,2])).squeeze()), [0, None])(batch, params) # Here we extract the grad of the model\n",
        "  return  jnp.mean( jnp.sum((out - score)**2, axis=1))/1000 #-jnp.mean(log_prob) "
      ]
    },
    {
      "cell_type": "code",
      "execution_count": 30,
      "id": "vKyWyEct8GsD",
      "metadata": {
        "id": "vKyWyEct8GsD"
      },
      "outputs": [],
      "source": [
        "@jax.jit\n",
        "def update(params, opt_state, batch, score):\n",
        "    \"\"\"Single SGD update step.\"\"\"\n",
        "    loss, grads = jax.value_and_grad(loss_fn)(params, batch, score)\n",
        "    updates, new_opt_state = optimizer.update(grads, opt_state)\n",
        "    new_params = optax.apply_updates(params, updates)\n",
        "  \n",
        "    return loss, new_params, new_opt_state"
      ]
    },
    {
      "cell_type": "code",
      "execution_count": 51,
      "id": "y8UW790jFjxK",
      "metadata": {
        "id": "y8UW790jFjxK"
      },
      "outputs": [],
      "source": [
        "learning_rate=0.0001\n",
        "optimizer = optax.adam(learning_rate)\n",
        "opt_state = optimizer.init(params)"
      ]
    },
    {
      "cell_type": "code",
      "execution_count": 32,
      "id": "cgpoNZNyFjrY",
      "metadata": {
        "id": "cgpoNZNyFjrY"
      },
      "outputs": [],
      "source": [
        "losses = []\n",
        "master_seed = hk.PRNGSequence(0)"
      ]
    },
    {
      "cell_type": "code",
      "execution_count": 52,
      "id": "5sHvoJrgFjn6",
      "metadata": {
        "colab": {
          "base_uri": "https://localhost:8080/"
        },
        "id": "5sHvoJrgFjn6",
        "outputId": "5a072e32-06e1-4e75-a55c-00bf00b353fb"
      },
      "outputs": [
        {
          "output_type": "stream",
          "name": "stderr",
          "text": [
            "100%|██████████| 5000/5000 [01:16<00:00, 64.98it/s]\n"
          ]
        }
      ],
      "source": [
        "for step in tqdm(range(5000)):\n",
        "    batch, score = get_batch(next(master_seed))\n",
        "    l, params, opt_state = update(params, opt_state, batch, score)\n",
        "    losses.append(l)"
      ]
    },
    {
      "cell_type": "code",
      "execution_count": 53,
      "id": "7gzKKxIJ8GpA",
      "metadata": {
        "colab": {
          "base_uri": "https://localhost:8080/",
          "height": 282
        },
        "id": "7gzKKxIJ8GpA",
        "outputId": "f5d39a64-c787-4d00-91ce-a92a220cb4b8"
      },
      "outputs": [
        {
          "output_type": "execute_result",
          "data": {
            "text/plain": [
              "[<matplotlib.lines.Line2D at 0x7f43d966d590>]"
            ]
          },
          "metadata": {},
          "execution_count": 53
        },
        {
          "output_type": "display_data",
          "data": {
            "image/png": "[encoded data removed]",
            "text/plain": [
              "<Figure size 432x288 with 1 Axes>"
            ]
          },
          "metadata": {
            "needs_background": "light"
          }
        }
      ],
      "source": [
        "plot(losses[:])"
      ]
    },
    {
      "cell_type": "code",
      "source": [
        "x = jnp.stack(jnp.meshgrid(jnp.linspace(0.,1.,128),\n",
        "                           jnp.linspace(0.,1.,128)),-1)\n",
        "\n",
        "im0 = jax.vmap((lambda x: model_NF.apply(params, x.reshape([1,2])).squeeze()))(x.reshape([-1,2])).reshape([128,128])\n",
        "contourf(x[...,0],x[...,1],jnp.exp(im0), 100); colorbar()"
      ],
      "metadata": {
        "colab": {
          "base_uri": "https://localhost:8080/",
          "height": 286
        },
        "id": "Q4qGTfhFvKtp",
        "outputId": "d5e9bad0-126f-4a8c-a615-8c225907e5eb"
      },
      "id": "Q4qGTfhFvKtp",
      "execution_count": 56,
      "outputs": [
        {
          "output_type": "execute_result",
          "data": {
            "text/plain": [
              "<matplotlib.colorbar.Colorbar at 0x7f43d8c468d0>"
            ]
          },
          "metadata": {},
          "execution_count": 56
        },
        {
          "output_type": "display_data",
          "data": {
            "image/png": "[encoded data removed]",
            "text/plain": [
              "<Figure size 432x288 with 2 Axes>"
            ]
          },
          "metadata": {
            "needs_background": "light"
          }
        }
      ]
    },
    {
      "cell_type": "code",
      "execution_count": 57,
      "id": "YDTVYHhmz4Y-",
      "metadata": {
        "colab": {
          "base_uri": "https://localhost:8080/",
          "height": 269
        },
        "id": "YDTVYHhmz4Y-",
        "outputId": "e40d5d4d-f87d-4159-c226-7bb22d288067"
      },
      "outputs": [
        {
          "output_type": "display_data",
          "data": {
            "image/png": "[encoded data removed]",
            "text/plain": [
              "<Figure size 432x288 with 1 Axes>"
            ]
          },
          "metadata": {
            "needs_background": "light"
          }
        }
      ],
      "source": [
        "hist2d(batch[:,0], batch[:,1],100, range=[[0,1],[0,1]]);gca().set_aspect('equal');"
      ]
    },
    {
      "cell_type": "code",
      "execution_count": 58,
      "id": "427774db",
      "metadata": {
        "id": "427774db"
      },
      "outputs": [],
      "source": [
        "x = model_inv.apply(params, batch)"
      ]
    },
    {
      "cell_type": "code",
      "execution_count": 59,
      "id": "acdc9ad7",
      "metadata": {
        "id": "acdc9ad7",
        "outputId": "88a4c5d4-1837-4108-90ca-c563d7d4cb99",
        "colab": {
          "base_uri": "https://localhost:8080/",
          "height": 269
        }
      },
      "outputs": [
        {
          "output_type": "display_data",
          "data": {
            "image/png": "[encoded data removed]",
            "text/plain": [
              "<Figure size 432x288 with 1 Axes>"
            ]
          },
          "metadata": {
            "needs_background": "light"
          }
        }
      ],
      "source": [
        "hist2d(x[:,0], x[:,1],100, range=[[0,1],[0,1]]);gca().set_aspect('equal');"
      ]
    },
    {
      "cell_type": "code",
      "execution_count": 60,
      "id": "db6d76ae",
      "metadata": {
        "id": "db6d76ae"
      },
      "outputs": [],
      "source": [
        "x = model_sample.apply(params)"
      ]
    },
    {
      "cell_type": "code",
      "execution_count": 61,
      "id": "3a65c01d",
      "metadata": {
        "id": "3a65c01d",
        "outputId": "247e927e-f3fe-4a2e-f2ef-1932c0297ca2",
        "colab": {
          "base_uri": "https://localhost:8080/",
          "height": 269
        }
      },
      "outputs": [
        {
          "output_type": "display_data",
          "data": {
            "image/png": "[encoded data removed]",
            "text/plain": [
              "<Figure size 432x288 with 1 Axes>"
            ]
          },
          "metadata": {
            "needs_background": "light"
          }
        }
      ],
      "source": [
        "hist2d(x[:,0], x[:,1],100, range=[[0,1],[0,1]]);gca().set_aspect('equal');"
      ]
    },
    {
      "cell_type": "code",
      "execution_count": null,
      "id": "c91cedb4",
      "metadata": {
        "id": "c91cedb4"
      },
      "outputs": [],
      "source": [
        ""
      ]
    }
  ],
  "metadata": {
    "accelerator": "GPU",
    "colab": {
      "name": "NF_mixture_sigmoid.ipynb",
      "provenance": [],
      "collapsed_sections": [],
      "include_colab_link": true
    },
    "kernelspec": {
      "display_name": "Python 3 (ipykernel)",
      "language": "python",
      "name": "python3"
    },
    "language_info": {
      "codemirror_mode": {
        "name": "ipython",
        "version": 3
      },
      "file_extension": ".py",
      "mimetype": "text/x-python",
      "name": "python",
      "nbconvert_exporter": "python",
      "pygments_lexer": "ipython3",
      "version": "3.9.9"
    }
  },
  "nbformat": 4,
  "nbformat_minor": 5
}